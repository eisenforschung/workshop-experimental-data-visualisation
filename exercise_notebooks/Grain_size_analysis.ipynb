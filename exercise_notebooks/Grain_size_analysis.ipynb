{
 "cells": [
  {
   "cell_type": "markdown",
   "metadata": {},
   "source": [
    "# Measuring grain sizes\n",
    "\n",
    "In this notebook we will demonstrate how we can use the [scikit-image library](https://scikit-image.org/) to determine grain sizes from micrographs and how to use [matplotlib](https://matplotlib.org/) to visualize the results.\n",
    "\n",
    "Concretely, we will look at:\n",
    "* what is an image\n",
    "* how to import images with [pillow](https://python-pillow.org/)\n",
    "* how to make histograms from images\n",
    "* how to threshold images and deciding on thresholds\n",
    "* how to clean up images\n",
    "* how to plot multiple images on top of eachother and create custom color maps\n",
    "* how to segment different contiguous regions\n",
    "* a bit more advanced segmentation with watershed\n",
    "* measuring and plotting properties of segmented images\n",
    "* exporting tables of properties"
   ]
  },
  {
   "cell_type": "markdown",
   "metadata": {},
   "source": [
    "## Import some libraries and define settings"
   ]
  },
  {
   "cell_type": "code",
   "execution_count": null,
   "metadata": {},
   "outputs": [],
   "source": [
    "%matplotlib inline"
   ]
  },
  {
   "cell_type": "code",
   "execution_count": null,
   "metadata": {},
   "outputs": [],
   "source": [
    "from PIL import Image\n",
    "import numpy as np\n",
    "import matplotlib.pyplot as plt"
   ]
  },
  {
   "cell_type": "code",
   "execution_count": null,
   "metadata": {},
   "outputs": [],
   "source": [
    "plt.rcParams[\"figure.figsize\"] = (12, 8)\n",
    "plt.rcParams[\"image.cmap\"] = \"Greys_r\""
   ]
  },
  {
   "cell_type": "markdown",
   "metadata": {},
   "source": [
    "## What is an image?\n",
    "An image is simply a 2D array of numbers.\n",
    "Pixels are rows and columns, and the pixel intensity is represented by a number.\n",
    "\n",
    "There are different ways to classify images:\n",
    "* color\n",
    "    * **grayscale** - one value per pixel\n",
    "        * value corresponds linearly to pixel \"intensity\"\n",
    "    * **color** - three values red, green, blue (RGB)\n",
    "        * sometimes there is a 4th \"channel\" - alpha, to indicate translucency\n",
    "* pixel depth\n",
    "    * 8-bit: pixel values are integers ranging from 0 - 255 (2^8 - 1)\n",
    "    * 16-bit: pixel values range from 0 - 65535 (2^16 - 1)\n",
    "    * float: intensities can be any decimal that can be represented with 64 bits, usually scaled from 0-1\n",
    "* file formats\n",
    "    * there are many ways to store an image to disk (.png, .jpg, .tiff, ...)\n",
    "    * they encode the same type of information but in a different way, often using compression\n",
    "    * different file format may support different pixel depths\n",
    "    * jpg: always 8-bit RGB, lossy compressed. Not good for images with sharp edges.\n",
    "    * tiff: lossless storage, supports rich metadata\n",
    "    \n",
    "We can create some examples of images using numpy:"
   ]
  },
  {
   "cell_type": "code",
   "execution_count": null,
   "metadata": {},
   "outputs": [],
   "source": [
    "# small grayscale image\n",
    "grayscale = np.array([[0, 100, 255],\n",
    "                      [100, 0,   0],\n",
    "                      [50, 50,  255],\n",
    "                      [255, 0,  255],\n",
    "                     ], dtype=np.uint8)\n",
    "print(grayscale.shape)\n",
    "print(grayscale)\n",
    "plt.imshow(grayscale)"
   ]
  },
  {
   "cell_type": "markdown",
   "metadata": {},
   "source": [
    "Matplotlib doesn't care what kind of data is stored in our array. We can convert 8-bit to floats 0-1 by dividing."
   ]
  },
  {
   "cell_type": "markdown",
   "metadata": {},
   "source": [
    "### Exercise 1\n",
    "* create your own grey-scale \"image\" array\n",
    "* try to view some properties of your image\n",
    "    * try to print out the maximum of the array\n",
    "    * try to print out the minimum\n",
    "    * try to print out the contained dtype\n",
    "    * try to print out the shape\n",
    "* experiment with some operations on the image like multiplying it by something. Can you multiply it by a number? Divide it by a number? Multiply it by itself?\n",
    "* try to take the square root of your image\n",
    "* can you visualize the image that has been operated on? Note that the coloring of a grayscale image is arbitrary. Can you plot the image with a different color map?"
   ]
  },
  {
   "cell_type": "code",
   "execution_count": null,
   "metadata": {},
   "outputs": [],
   "source": []
  },
  {
   "cell_type": "markdown",
   "metadata": {},
   "source": [
    "Matplotlib can also plot RGB images but then it expects values between 0-1 for red, green and blue. RGBA images can also be plot by adding a 4th value."
   ]
  },
  {
   "cell_type": "code",
   "execution_count": null,
   "metadata": {},
   "outputs": [],
   "source": [
    "# RGB image\n",
    "np.random.seed(42)\n",
    "# create a random (4x5) RGB image\n",
    "rgb_image = np.random.rand(4, 5, 3)\n",
    "plt.imshow(rgb_image)"
   ]
  },
  {
   "cell_type": "markdown",
   "metadata": {},
   "source": [
    "## Importing images\n",
    "For importing images an easy library to use is PIL. \n",
    "We can directly visualize the image in a jupyter notebook simply by typing the variable name.\n",
    "\n",
    "We will analyze an image of grains to see whether we can separate the grains and measure their size. Do you already have some ideas how we could approach this?"
   ]
  },
  {
   "cell_type": "code",
   "execution_count": null,
   "metadata": {},
   "outputs": [],
   "source": [
    "image = Image.open(\"./grain_image_2.jpg\")\n",
    "image"
   ]
  },
  {
   "cell_type": "markdown",
   "metadata": {},
   "source": [
    "PIL imports the image as an image object, we can convert this in a very simple way to a numpy array and check the information inside."
   ]
  },
  {
   "cell_type": "markdown",
   "metadata": {},
   "source": [
    "### Exercise 2\n",
    "\n",
    "Try to convert the image to a numpy array. Check the properties of the array (dtype, shape, maximum, minumum, ...). Can you plot this array with matplotlib?"
   ]
  },
  {
   "cell_type": "code",
   "execution_count": null,
   "metadata": {},
   "outputs": [],
   "source": []
  },
  {
   "cell_type": "markdown",
   "metadata": {},
   "source": [
    "We imported a jpg, so the data stored inside each pixel is an RGB value ranging from 0-255. Since color is not important in this image, we want to convert this to simple grayscale. \n",
    "\n",
    "### Exercise 3\n",
    "Try to make an array corresponding to a greyscale image by taking the mean of each color channel. Verify that it looks ok by plotting it."
   ]
  },
  {
   "cell_type": "code",
   "execution_count": null,
   "metadata": {},
   "outputs": [],
   "source": []
  },
  {
   "cell_type": "markdown",
   "metadata": {},
   "source": [
    "### Exercise 4\n",
    "Generally to convert to grayscale we use a weighted sum of red, green and blue. The weights take into consideration our eye's sensitivity to different colors. \n",
    "\n",
    "* There is a function in scikit image that does this, can you find it with google?\n",
    "* Use the function and plot the result. Do you see any differences between the regular mean and the weighted average?"
   ]
  },
  {
   "cell_type": "code",
   "execution_count": null,
   "metadata": {},
   "outputs": [],
   "source": []
  },
  {
   "cell_type": "markdown",
   "metadata": {},
   "source": [
    "Maybe what we can do as a first step is separate the grain boundaries from the grain interior using thresholding. The grain boundaries are clearly darker than the grain interiors, so we may be able to separate this easily by defining some cut-off value. Above the value, everything is grain, below everything is boundary. But where to we put this threshold?\n",
    "\n",
    "### Excercise 5\n",
    "A convenient tool to inspect the kinds of intensities we have in the image are histograms. With matplotlib this can be done in a very convenient way using the `hist` method.\n",
    "* Try to make a histogram of the image intensities (tip: you may have to unravel the image first)\n",
    "* Play with some of the options in the `hist` method and see how it changes the plot. Can you change the color? Can you change the number of bars?"
   ]
  },
  {
   "cell_type": "code",
   "execution_count": null,
   "metadata": {},
   "outputs": [],
   "source": []
  },
  {
   "cell_type": "markdown",
   "metadata": {},
   "source": [
    "The histogram tells us most of the pixel intensities center around 0.8. We can also see a lot of pixels are completely white while others are completely black. The best separation will likely be around 0.6, but how do we decide an optimal value? Luckily there are a number of strategies to determine an \"optimal\" threshold value and we can directly check all those implemented in scikit image using the `try_all_threshold` method. \n",
    "\n",
    "### Exercise 6\n",
    "Try to use the `try_all_threshold` method and decide on a good threshold method"
   ]
  },
  {
   "cell_type": "code",
   "execution_count": null,
   "metadata": {},
   "outputs": [],
   "source": [
    "from skimage.filters import try_all_threshold"
   ]
  },
  {
   "cell_type": "markdown",
   "metadata": {},
   "source": [
    "Here it depends a bit on our own preferences whether we want black to cut into our grains or whether we want to miss some faint grain boundaries. \n",
    "\n",
    "### Exercise 7\n",
    "\n",
    "* Select a thresholding method you find optimal and use it to find the threshold value. Print it out to check it.\n",
    "* We then create a thresholded image by comparing the gray value image to the threshold value. This creates a \"boolean\" image, where each pixel is `True` (the pixel intensity is larger than threshold = grain interior) or `False` (the pixel intensity is smaller than threshold = boundary or inclusion). Can you create such a binary image? Check the dtype.\n",
    "* Plot the boolean image"
   ]
  },
  {
   "cell_type": "code",
   "execution_count": null,
   "metadata": {},
   "outputs": [],
   "source": [
    "from skimage.filters import # import the threshhold method you want\n",
    "\n",
    "tresh = # use the threshold value\n",
    "\n",
    "binary = # create a binary image\n",
    "\n",
    "# plot the binary image"
   ]
  },
  {
   "cell_type": "markdown",
   "metadata": {},
   "source": [
    "## Cleaning up the image\n",
    "\n",
    "There are a lot of little black spots in our grains due to little inclusions. Fortunately it is quite easy to clean those up using the scikit-image morphology functions. In short, these can be used to expand or shrink black/white regions respectively according to some rules. \n",
    "\n",
    "### Exercise 8\n",
    "* look at the documentation of functions in the `skimage.morphology` module. In particular explore functions lik `area_closing`, `erosion`, `dilation` and `area_opening`. What happens to the binary image when you use these functions on them? Which one might you use to remove some of the noise in the image?"
   ]
  },
  {
   "cell_type": "code",
   "execution_count": null,
   "metadata": {},
   "outputs": [],
   "source": [
    "from skimage.morphology import # look at the documentation\n",
    "\n",
    "cleaned = # use something to clean the binary image\n",
    "# plot the result"
   ]
  },
  {
   "cell_type": "markdown",
   "metadata": {},
   "source": [
    "## Plotting images on top of eachother and custom color maps\n",
    "Let's check if our cleaned boolean image still matches ok with our original image by plotting them on top of eachother. Since our grains are white in our boolean image, we will not be able to see anything of the image plotted below. Let's create a custom RGBA color map that is transparent at 0 (=False) and opaque at 1 (=True).\n",
    "\n",
    "### Exercise 9\n",
    "* Create a (x, 4)-shaped array to represent a custom RGBA mapping of your own design. It might be best if the grain boundaries are colored and the grain interiors are transparant. Experiment with the value of x.\n",
    "* Plot the original image and the cleaned grain boundaries"
   ]
  },
  {
   "cell_type": "code",
   "execution_count": null,
   "metadata": {},
   "outputs": [],
   "source": [
    "# Create a (x, 4) array that serves as RGBA mapping\n",
    "\n",
    "from matplotlib import colors\n",
    "cmap = colors.ListedColormap(cmap_custom) # this creates our custom map\n",
    "\n",
    "fig, ax = plt.subplots()\n",
    "# use the ax object like plt beforehand for persistant plotting on the same image"
   ]
  },
  {
   "cell_type": "markdown",
   "metadata": {},
   "source": [
    "## Segmenting contiguous regions.\n",
    "In principle all we need is for the different connected white regions to be joined together as grains. So what we need to do is *label* the white pixels with a number that will indicate the \"grain\" it belongs to. This is best performed using scipy's ndimage module which contains the `label` method. Note that we define a \"structure\", which  defines how \"contiguity\" should be defined. If we say np.ones((3, 3)) we indicate that all 8 pixels around each pixel should be considered for contiguity. We could also limit contiguity more and say we don't want the corner elements. We could construct this matrix manually, but easier is using scikit image's `disk`."
   ]
  },
  {
   "cell_type": "code",
   "execution_count": null,
   "metadata": {},
   "outputs": [],
   "source": [
    "from skimage.morphology import disk\n",
    "\n",
    "square = np.ones((3, 3))\n",
    "selem = disk(1)\n",
    "print(\"Consider diagonal elements contiguous:\")\n",
    "print(square)\n",
    "print(\"Don't consider diagonal elements contiguous:\")\n",
    "print(selem)"
   ]
  },
  {
   "cell_type": "code",
   "execution_count": null,
   "metadata": {},
   "outputs": [],
   "source": [
    "import scipy.ndimage as ndi"
   ]
  },
  {
   "cell_type": "markdown",
   "metadata": {},
   "source": [
    "### Exercise 10\n",
    "\n",
    "Use the `label` function in `ndimage` to create a labeled image.\n",
    "* Can you find a use for the contiguity arrays from before?\n",
    "* What is the structure of the output, can you plot it?"
   ]
  },
  {
   "cell_type": "code",
   "execution_count": null,
   "metadata": {},
   "outputs": [],
   "source": []
  },
  {
   "cell_type": "markdown",
   "metadata": {},
   "source": [
    "We have detected hundreds of grains, and they are colored from from top to bottom depending which cmap you used. It may be easier to detect the different grains by converting the labels to random RGB values, which can be done with `skimage.label2rgb`. \n",
    "\n",
    "*Note that some grains next to eachother may by chance still get the same color.*"
   ]
  },
  {
   "cell_type": "code",
   "execution_count": null,
   "metadata": {},
   "outputs": [],
   "source": [
    "from skimage.color import label2rgb\n",
    "colors = # use the label2rgb function to colorize the labeled image\n",
    "plt.imshow(colors)"
   ]
  },
  {
   "cell_type": "markdown",
   "metadata": {},
   "source": [
    "## More advanced segmentation with watershed\n",
    "\n",
    "You can see that some grain boundaries have little gaps in them, which incorrectly connects some grains by contiguity. We can try to separate those out with the watershed algorithm. With watershed we will try to pinpoint the centers of grains and grow those outwards (as lakes growing) in a \"landscape\". The algorithm stops when the different \"waterlines\" touch.\n",
    "\n",
    "First we need some \"topology\" map of the image. We will use the distance transform, which measures how far away each pixel is from the nearest black (background) pixel. This transform is again in the scipy.ndimage module."
   ]
  },
  {
   "cell_type": "code",
   "execution_count": null,
   "metadata": {},
   "outputs": [],
   "source": [
    "dist = ndi.distance_transform_edt(cleaned)"
   ]
  },
  {
   "cell_type": "markdown",
   "metadata": {},
   "source": [
    "### Exercise 11\n",
    "If we plot the negative distance, we can image each grain being kind of like a valley that needs to be filled up with water. Plot the positive and negative distance."
   ]
  },
  {
   "cell_type": "code",
   "execution_count": null,
   "metadata": {},
   "outputs": [],
   "source": []
  },
  {
   "cell_type": "markdown",
   "metadata": {},
   "source": [
    "Now we still need to find the locations of the \"fountains\" from where we fill the landscape.\n",
    "A good place to add fountains is at the bottom of the valleys; we can find these using a peak finding algorithm.\n",
    "\n",
    "### Exercise 12\n",
    "* In the following cell we find the local peaks in two ways. Explore what the output is and what the effect is of different parameters. \n",
    "* Can you plot the distance map with the coordinates of the fountains on top?"
   ]
  },
  {
   "cell_type": "code",
   "execution_count": null,
   "metadata": {},
   "outputs": [],
   "source": [
    "from skimage.feature import peak_local_max\n",
    "from skimage.filters import gaussian\n",
    "# we smooth the distance map a bit to have less noise in peak finding\n",
    "coords = peak_local_max(gaussian(dist, sigma=1.5), min_distance=5, threshold_rel=0.1, exclude_border=False)\n",
    "\n",
    "# to get the fountain coordinates in an image which is supplied to watershed\n",
    "mask = peak_local_max(gaussian(dist, sigma=1.5), min_distance=5, threshold_rel=0.1,\n",
    "                      exclude_border=True, indices=False)\n",
    "# We have to label the fountains each with a unique number\n",
    "labels_water, _ = ndi.label(mask)\n",
    "\n",
    "#plot the distance map with the peaks on top"
   ]
  },
  {
   "cell_type": "markdown",
   "metadata": {},
   "source": [
    "Now we just provide the labeled mask (each non-zero pixel has a unique integer and corresponds to a fountain) to the watershed algorithm.\n",
    "\n",
    "### Exercise 13\n",
    "Try to use the watershed function with the distance map and fountains, and possibly using connectivity. Plot the result. Try to plot the grain boundaries on top once more."
   ]
  },
  {
   "cell_type": "code",
   "execution_count": null,
   "metadata": {},
   "outputs": [],
   "source": [
    "from skimage.segmentation import watershed\n",
    "water = # use the watershed function\n",
    "\n",
    "fig, ax = plt.subplots()\n",
    "# plot the result using a colormap"
   ]
  },
  {
   "cell_type": "markdown",
   "metadata": {},
   "source": [
    "### Exercise 14\n",
    "Try to convert this segmented image into an RGB map and plot it with partial transparancy on top of the original image"
   ]
  },
  {
   "cell_type": "code",
   "execution_count": null,
   "metadata": {},
   "outputs": [],
   "source": []
  },
  {
   "cell_type": "markdown",
   "metadata": {},
   "source": [
    "## Measuring properties of the regions\n",
    "Once we have a labeled image, it is easy to measure various properties"
   ]
  },
  {
   "cell_type": "code",
   "execution_count": null,
   "metadata": {},
   "outputs": [],
   "source": [
    "from skimage.measure import regionprops_table, regionprops"
   ]
  },
  {
   "cell_type": "code",
   "execution_count": null,
   "metadata": {},
   "outputs": [],
   "source": [
    "#to check the properties that can be measured\n",
    "regionprops?"
   ]
  },
  {
   "cell_type": "markdown",
   "metadata": {},
   "source": [
    "### Exercise 15\n",
    "* Get the `label` and `area` metrics from the two segmented images (simple and complex segmentation) using `regionprops_table`. Inspect the returned objects. \n",
    "* Create images that map the area of each grain to each pixel.\n",
    "* plot these images on top of the original image. Use subplots with the argument ncols = 2 to plot two maps in the same figure."
   ]
  },
  {
   "cell_type": "code",
   "execution_count": null,
   "metadata": {},
   "outputs": [],
   "source": []
  },
  {
   "cell_type": "markdown",
   "metadata": {},
   "source": [
    "### Exercise 16\n",
    "* Now plot histograms for the grain areas on the same plot. Make the histograms partially transparent.\n",
    "* calculate the mean grain area and plot these as vertical lines on the plot\n",
    "* add a label for all elements of the plot and add a legend"
   ]
  },
  {
   "cell_type": "code",
   "execution_count": null,
   "metadata": {},
   "outputs": [],
   "source": []
  },
  {
   "cell_type": "markdown",
   "metadata": {},
   "source": [
    "## Exporting data to excel\n",
    "You can easily export the measurements to an excel or csv file"
   ]
  },
  {
   "cell_type": "code",
   "execution_count": null,
   "metadata": {},
   "outputs": [],
   "source": [
    "import pandas as pd\n",
    "df = pd.DataFrame(metrics)\n",
    "df"
   ]
  },
  {
   "cell_type": "code",
   "execution_count": null,
   "metadata": {},
   "outputs": [],
   "source": [
    "df.to_excel(\"grain_measurements.xlsx\")"
   ]
  },
  {
   "cell_type": "code",
   "execution_count": null,
   "metadata": {},
   "outputs": [],
   "source": [
    "!if [ -f grain_measurements.xlsx ];then echo file exists; fi"
   ]
  }
 ],
 "metadata": {
  "kernelspec": {
   "display_name": "Python 3",
   "language": "python",
   "name": "python3"
  },
  "language_info": {
   "codemirror_mode": {
    "name": "ipython",
    "version": 3
   },
   "file_extension": ".py",
   "mimetype": "text/x-python",
   "name": "python",
   "nbconvert_exporter": "python",
   "pygments_lexer": "ipython3",
   "version": "3.8.5"
  }
 },
 "nbformat": 4,
 "nbformat_minor": 4
}
