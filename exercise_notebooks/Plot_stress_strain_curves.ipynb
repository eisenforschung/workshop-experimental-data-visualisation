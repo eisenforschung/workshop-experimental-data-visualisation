{
 "cells": [
  {
   "cell_type": "markdown",
   "metadata": {},
   "source": [
    "# Plotting Stress-strain curves in reproducible way\n",
    "This tutorial will show how to plot 'publication' quality stress strain curves using python. \n",
    "The datasets are in form of excel files, which we assume to be the standard way in which the stress strain curve data is stored. \n",
    "The tutorial will cover basics of python programming language.\n",
    "Moreover, this notebook can be modified to handle large amounts of datafiles of similar format to plot multiple curves at once and have a reproducible plotting style"
   ]
  },
  {
   "cell_type": "markdown",
   "metadata": {},
   "source": [
    "# Why use python for plotting?"
   ]
  },
  {
   "cell_type": "markdown",
   "metadata": {},
   "source": [
    "- Flexible, any special plot feature can be created\n",
    "- Free and open source\n",
    "- calculations are faster and other options for data analysis\n",
    "- reproducibility\n",
    "- Automate repetitive steps\n",
    "\n",
    "\n",
    "*with **jupterhub server** python is easier to use than ever*"
   ]
  },
  {
   "cell_type": "markdown",
   "metadata": {},
   "source": [
    "## Modules in python\n",
    "Python has a huge library of codes. \n",
    "These different types of codes can be bound together into modules.\n",
    "When we want to use these set of codes for certain purpose, we **import** them.\n",
    "Once you import some module, you can use the functions/classes etc present in it.\n",
    "\n",
    "To enable use of access, we also rename the modules to the names we want. \n",
    "Following modules are used in this notebook:\n",
    "1. [pandas](https://pandas.pydata.org/)            - For Data analysis and manipulation \n",
    "2. [numpy](https://numpy.org/)                     - Package for numerical/scientific computing with lots of array based calculations \n",
    "3. [math](https://docs.python.org/3/library/math.html) - Module for mathematical functions\n",
    "3. [matplotlib](https://matplotlib.org/)           - The most widely used plotting library based on python \n",
    "4. [os](https://docs.python.org/3/library/os.html) - Library for Operating system related functionality"
   ]
  },
  {
   "cell_type": "code",
   "execution_count": null,
   "metadata": {},
   "outputs": [],
   "source": [
    "import pandas as pd\n",
    "import numpy as np\n",
    "import math\n",
    "import os\n",
    "import matplotlib as mpl\n",
    "import matplotlib.pyplot as PyPlot\n",
    "%matplotlib inline"
   ]
  },
  {
   "cell_type": "markdown",
   "metadata": {},
   "source": [
    "### Reading in excel file\n",
    "Based on my excel file, I know that the relevant data is from row 5 (in python it is row 4 as counting starts from 0).\n",
    "\n",
    "And I use only columns A to L.\n",
    "\n",
    "In the function below, we first give the name of the excel file.\n",
    "\n",
    "Then we specify, from which row in the excel file is used to label our data. \n",
    "\n",
    "As row 4 (start counting at 0!!) has the column names, we say header is 4.\n"
   ]
  },
  {
   "cell_type": "code",
   "execution_count": null,
   "metadata": {},
   "outputs": [],
   "source": []
  },
  {
   "cell_type": "markdown",
   "metadata": {},
   "source": [
    "This is how the file looks here now in form of a **DataFrame**"
   ]
  },
  {
   "cell_type": "code",
   "execution_count": null,
   "metadata": {},
   "outputs": [],
   "source": [
    "df"
   ]
  },
  {
   "cell_type": "markdown",
   "metadata": {},
   "source": [
    "### Accessing data within a dataframe\n",
    "The data in the columns of a dataframe can be accessed by calling out the name of the column as shown below"
   ]
  },
  {
   "cell_type": "code",
   "execution_count": null,
   "metadata": {},
   "outputs": [],
   "source": [
    "df['True Strain']"
   ]
  },
  {
   "cell_type": "markdown",
   "metadata": {},
   "source": [
    "### Plotting"
   ]
  },
  {
   "cell_type": "code",
   "execution_count": null,
   "metadata": {},
   "outputs": [],
   "source": [
    "PyPlot.plot(df['True Strain'],df['True Stress'])"
   ]
  },
  {
   "cell_type": "markdown",
   "metadata": {},
   "source": [
    "## Looping over files\n",
    "But as we want to use the power that python provides, we would like to do everything at once. \n",
    "***Loop*** give us this power - Looping is basically repeating a set of commands number of times\n",
    "\n",
    "Also we need to know something about the datatypes in python: \n",
    "**Lists** and **Dictionaries**\n"
   ]
  },
  {
   "cell_type": "markdown",
   "metadata": {},
   "source": [
    "### List example\n",
    "This is an example of list. It is denoted by square brackets **[ ]**\n",
    "\n",
    "It is used to store iterable (looping possibilities) items to be called by a single variable."
   ]
  },
  {
   "cell_type": "code",
   "execution_count": null,
   "metadata": {},
   "outputs": [],
   "source": [
    "# empty list\n",
    "example_list = []\n",
    "\n",
    "# list of integers\n",
    "example_list = [1, 2, 3]"
   ]
  },
  {
   "cell_type": "code",
   "execution_count": null,
   "metadata": {},
   "outputs": [],
   "source": [
    "# Call list items\n",
    "example_list[0]"
   ]
  },
  {
   "cell_type": "markdown",
   "metadata": {},
   "source": [
    "In the example below, the list has multiple file names which we can loop over (iterable)."
   ]
  },
  {
   "cell_type": "code",
   "execution_count": null,
   "metadata": {},
   "outputs": [],
   "source": [
    "os.listdir('sample_data/')"
   ]
  },
  {
   "cell_type": "markdown",
   "metadata": {},
   "source": [
    "### Dictionary example\n",
    "Dictionary is similar to our 'normal' dictionaries. They are denoted by curly brackets **{ }**. \n",
    "\n",
    "Dictionaries can store any kind of data/data structure as values.\n",
    "\n",
    "We have key and value pairs."
   ]
  },
  {
   "cell_type": "code",
   "execution_count": null,
   "metadata": {},
   "outputs": [],
   "source": [
    "example_dict = {'a':1, 'b': 2}\n",
    "example_dict = {'a':'Apple', 'b': 'Banana'}\n",
    "example_dict = {'a':[1,2,3], 'b': [4,5,6]}"
   ]
  },
  {
   "cell_type": "code",
   "execution_count": null,
   "metadata": {},
   "outputs": [],
   "source": [
    "# what does one specific key correspond to?\n",
    "example_dict['a']"
   ]
  },
  {
   "cell_type": "markdown",
   "metadata": {},
   "source": [
    "So we will create a dictionary which will reference to the dataframes like we saw before\n",
    "\n",
    "We will create a empty dictionary and then add entries to it"
   ]
  },
  {
   "cell_type": "code",
   "execution_count": null,
   "metadata": {},
   "outputs": [],
   "source": [
    "data_dict = {}\n",
    "for i in os.listdir('sample_data/'):\n"
   ]
  },
  {
   "cell_type": "code",
   "execution_count": null,
   "metadata": {},
   "outputs": [],
   "source": [
    "data_dict.keys()"
   ]
  },
  {
   "cell_type": "code",
   "execution_count": null,
   "metadata": {},
   "outputs": [],
   "source": [
    "data_dict['Data_1.xlsx']"
   ]
  },
  {
   "cell_type": "markdown",
   "metadata": {},
   "source": [
    "#### Finding stress and strain limits in the whole dataset"
   ]
  },
  {
   "cell_type": "code",
   "execution_count": null,
   "metadata": {},
   "outputs": [],
   "source": [
    "max_stress_lim = 0.0\n",
    "max_strain_lim = 0.0\n",
    "for expt_data in data_dict.values():\n",
    "    max_y_lim = #finding maximum stress for a given file\n",
    "    max_x_lim = #finding maximum strain for a given file\n",
    "    if max_y_lim > max_stress_lim:\n",
    "        max_stress_lim = max_y_lim\n",
    "    if max_x_lim > max_strain_lim:\n",
    "        max_strain_lim = max_x_lim"
   ]
  },
  {
   "cell_type": "code",
   "execution_count": null,
   "metadata": {},
   "outputs": [],
   "source": [
    "max_strain_lim"
   ]
  },
  {
   "cell_type": "code",
   "execution_count": null,
   "metadata": {},
   "outputs": [],
   "source": [
    "max_stress_lim"
   ]
  },
  {
   "cell_type": "markdown",
   "metadata": {},
   "source": [
    "Rounding off values"
   ]
  },
  {
   "cell_type": "code",
   "execution_count": null,
   "metadata": {},
   "outputs": [],
   "source": [
    "max_strain_lim = round(max_strain_lim * 2.0) / 2.0\n",
    "max_stress_lim = (round(max_stress_lim/50.0)+2.0)*50.0"
   ]
  },
  {
   "cell_type": "code",
   "execution_count": null,
   "metadata": {},
   "outputs": [],
   "source": [
    "max_stress_lim,max_strain_lim"
   ]
  },
  {
   "cell_type": "markdown",
   "metadata": {},
   "source": [
    "## Plot settings"
   ]
  },
  {
   "cell_type": "markdown",
   "metadata": {},
   "source": [
    "Create a simple plot by looping"
   ]
  },
  {
   "cell_type": "code",
   "execution_count": null,
   "metadata": {},
   "outputs": [],
   "source": [
    "fig, ax = PyPlot.subplots()\n",
    "\n",
    "for datas in data_dict.values():\n",
    "    PyPlot.plot(datas['True Strain'],\n",
    "                datas['True Stress']\n",
    "                )"
   ]
  },
  {
   "cell_type": "markdown",
   "metadata": {},
   "source": [
    "This is a very simple plot\n",
    "Not yet publication ready.\n",
    "\n",
    "Generally we change following things:\n",
    "1. Colors\n",
    "2. Linestyles\n",
    "3. Linewidths\n",
    "4. Labels\n",
    "5. Axes labels\n",
    "6. Axes limits\n",
    "7. Axes ticks (optional)"
   ]
  },
  {
   "cell_type": "code",
   "execution_count": null,
   "metadata": {},
   "outputs": [],
   "source": [
    "set_colors = ['black','red','teal','fuchsia','blue'] # https://matplotlib.org/gallery/color/named_colors.html"
   ]
  },
  {
   "cell_type": "code",
   "execution_count": null,
   "metadata": {},
   "outputs": [],
   "source": [
    "linestyle_list = ['solid', 'dashed', 'dashdot', 'dotted']\n",
    "label_list = [1073,1173,1273,1373]"
   ]
  },
  {
   "cell_type": "code",
   "execution_count": null,
   "metadata": {},
   "outputs": [],
   "source": [
    "fig, ax = PyPlot.subplots()\n",
    "ax.tick_params(which='both',direction=\"in\",top=True,right=True)\n",
    "ax.minorticks_on()\n",
    "\n",
    "#for count,i in enumerate(data_dict.keys()):\n",
    "for datas,line,colors,labels in zip(data_dict.values(),linestyle_list,set_colors,label_list):\n",
    "    PyPlot.plot(datas['True Strain'],\n",
    "                datas['True Stress'],\n",
    "                color=colors,\n",
    "                linewidth = 2.5,\n",
    "                linestyle = line,\n",
    "                label = labels\n",
    "                )\n",
    "    PyPlot.xlim(-0.025,max_strain_lim)\n",
    "    PyPlot.ylim(0.0,max_stress_lim)\n",
    "    PyPlot.xlabel(r'$\\epsilon$(-)',fontsize=18)   # latex based symbols\n",
    "    PyPlot.ylabel(r'$\\sigma$ (MPa)',fontsize=18)\n",
    "    PyPlot.legend(title=r'$ T (\\mathrm{K})$')#,title_fontsize ='large')\n",
    "        \n",
    "fig.savefig('multi_stress_strain.png',dpi=600)"
   ]
  },
  {
   "cell_type": "markdown",
   "metadata": {},
   "source": [
    "### Cutting off data\n",
    "\n",
    "Can be done automatically but easiest way is manually.\n",
    "\n",
    "We can look at where we want to cut off and give that value"
   ]
  },
  {
   "cell_type": "code",
   "execution_count": null,
   "metadata": {},
   "outputs": [],
   "source": [
    "cut_off_strains = []\n",
    "data_dict_2 = {}\n",
    "data_dict_2['Data_1.xlsx'] = data_dict['Data_1.xlsx'].loc[data_dict['Data_1.xlsx']['True Strain'] < 0.88]"
   ]
  },
  {
   "cell_type": "code",
   "execution_count": null,
   "metadata": {},
   "outputs": [],
   "source": [
    "PyPlot.plot(data_dict_2['Data_1.xlsx']['True Strain'],data_dict_2['Data_1.xlsx']['True Stress'])"
   ]
  },
  {
   "cell_type": "markdown",
   "metadata": {},
   "source": [
    "## Automating cut off"
   ]
  },
  {
   "cell_type": "markdown",
   "metadata": {},
   "source": [
    "Idea: See where the derivative drops significantly\n",
    "\n",
    "For automation might need smooth data\n",
    "\n",
    "Need simpler ideas for python newbies. I dont want to make a complicated code. "
   ]
  },
  {
   "cell_type": "code",
   "execution_count": null,
   "metadata": {},
   "outputs": [],
   "source": [
    "from scipy.signal import savgol_filter"
   ]
  },
  {
   "cell_type": "code",
   "execution_count": null,
   "metadata": {},
   "outputs": [],
   "source": [
    "fig,ax1 = PyPlot.subplots()\n",
    "ax1.plot(data_dict['Data_4.xlsx']['True Strain'],savgol_filter(data_dict['Data_4.xlsx']['True Stress'],31,9,deriv=1))\n",
    "ax2 = ax1.twinx()\n",
    "ax2.plot(data_dict['Data_4.xlsx']['True Strain'],data_dict['Data_4.xlsx']['True Stress'])"
   ]
  },
  {
   "cell_type": "code",
   "execution_count": null,
   "metadata": {},
   "outputs": [],
   "source": [
    "index_min = np.argmin(savgol_filter(data_dict['Data_1.xlsx']['True Stress'],71,9,deriv=1))\n",
    "data_dict['Data_1.xlsx']['True Strain'][index_min]"
   ]
  },
  {
   "cell_type": "code",
   "execution_count": null,
   "metadata": {},
   "outputs": [],
   "source": [
    "math.floor(0.8953057035808059*50.0)/50.0"
   ]
  },
  {
   "cell_type": "code",
   "execution_count": null,
   "metadata": {},
   "outputs": [],
   "source": [
    "data_dict['Data_4.xlsx'].loc[data_dict['Data_4.xlsx']['True Strain'] < 0.88]"
   ]
  },
  {
   "cell_type": "code",
   "execution_count": null,
   "metadata": {},
   "outputs": [],
   "source": [
    "new_data_dict = {}\n",
    "for datas,name in zip(data_dict.values(),data_dict.keys()):\n",
    "    index_min = np.argmin(savgol_filter(datas['True Stress'],31,9,deriv=1))\n",
    "    cut_off_value = datas['True Strain'][index_min]\n",
    "    rounded_cut_off = math.floor(cut_off_value*50.0)/50.0\n",
    "    new_data_dict[name] = datas.loc[datas['True Strain'] < rounded_cut_off]"
   ]
  },
  {
   "cell_type": "code",
   "execution_count": null,
   "metadata": {},
   "outputs": [],
   "source": [
    "new_data_dict['Data_1.xlsx']"
   ]
  },
  {
   "cell_type": "code",
   "execution_count": null,
   "metadata": {},
   "outputs": [],
   "source": [
    "fig, ax = PyPlot.subplots()\n",
    "ax.tick_params(which='both',direction=\"in\",top=True,right=True)\n",
    "ax.minorticks_on()\n",
    "\n",
    "#for count,i in enumerate(data_dict.keys()):\n",
    "for datas,line,colors,labels in zip(new_data_dict.values(),linestyle_list,set_colors,label_list):\n",
    "    PyPlot.plot(datas['True Strain'],\n",
    "                datas['True Stress'],\n",
    "                color=colors,\n",
    "                linewidth = 2.5,\n",
    "                linestyle = line,\n",
    "                label = labels\n",
    "                )\n",
    "    PyPlot.xlim(-0.025,max_strain_lim)\n",
    "    PyPlot.ylim(0.0,max_stress_lim)\n",
    "    PyPlot.xlabel(r'$\\epsilon$(-)',fontsize=18)   # latex based symbols\n",
    "    PyPlot.ylabel(r'$\\sigma$ (MPa)',fontsize=18)\n",
    "    PyPlot.legend(title=r'$ T (\\mathrm{K})$')#,title_fontsize ='large')\n",
    "        \n",
    "fig.savefig('multi_stress_strain_cut_off.png',dpi=600)"
   ]
  }
 ],
 "metadata": {
  "kernelspec": {
   "display_name": "Python 3",
   "language": "python",
   "name": "python3"
  },
  "language_info": {
   "codemirror_mode": {
    "name": "ipython",
    "version": 3
   },
   "file_extension": ".py",
   "mimetype": "text/x-python",
   "name": "python",
   "nbconvert_exporter": "python",
   "pygments_lexer": "ipython3",
   "version": "3.8.5"
  }
 },
 "nbformat": 4,
 "nbformat_minor": 4
}
