{
 "cells": [
  {
   "cell_type": "markdown",
   "metadata": {},
   "source": [
    "# Plotting Stress-strain curves in reproducible way\n",
    "This tutorial will show how to plot 'publication' quality stress strain curves using python. \n",
    "The datasets are in form of excel files, which we assume to be the standard way in which the stress strain curve data is stored. \n",
    "The tutorial will cover basics of python programming language.\n",
    "Moreover, this notebook can be modified to handle large amounts of datafiles of similar format to plot multiple curves at once and be have a reproducible plotting style"
   ]
  },
  {
   "cell_type": "markdown",
   "metadata": {},
   "source": [
    "# Why use python for plotting?"
   ]
  },
  {
   "cell_type": "markdown",
   "metadata": {},
   "source": [
    "- Flexible, any special plot feature can be created\n",
    "- Free and open source\n",
    "- calculations are faster and other options for data analysis\n",
    "- reproducibility\n",
    "- Automate repetitive steps\n",
    "\n",
    "\n",
    "*with **jupterhub server** python is easier to use than ever*"
   ]
  },
  {
   "cell_type": "markdown",
   "metadata": {},
   "source": [
    "## Modules in python\n",
    "Python has a huge library of codes. \n",
    "These different types of codes can be bound together into modules.\n",
    "When we want to use these set of codes for certain purpose, we **import** them.\n",
    "Once you import some module, you can use the functions/classes etc present in it.\n",
    "\n",
    "To enable use of access, we also rename the modules to the names we want. \n",
    "Following modules are used in this notebook:\n",
    "1. [pandas](https://pandas.pydata.org/)            - For Data analysis and manipulation \n",
    "2. [numpy](https://numpy.org/)                     - Package for numerical/scientific computing with lots of array based calculations \n",
    "3. [math](https://docs.python.org/3/library/math.html) - Module for mathematical functions\n",
    "3. [matplotlib](https://matplotlib.org/)           - The most widely used plotting library based on python \n",
    "4. [os](https://docs.python.org/3/library/os.html) - Library for Operating system related functionality"
   ]
  },
  {
   "cell_type": "code",
   "execution_count": 1,
   "metadata": {},
   "outputs": [],
   "source": [
    "import pandas as pd\n",
    "import numpy as np\n",
    "import math\n",
    "import os\n",
    "import matplotlib as mpl\n",
    "import matplotlib.pyplot as PyPlot\n",
    "%matplotlib inline"
   ]
  },
  {
   "cell_type": "markdown",
   "metadata": {},
   "source": [
    "There were some changes to pandas which requires some extra things to read the xlsx files. \n",
    "These will already be installed on the jupyterhub server and therefore nothing to be concerned about"
   ]
  },
  {
   "cell_type": "markdown",
   "metadata": {},
   "source": [
    "### Reading in excel file\n",
    "We use the function **read_excel** inside of pandas to read the excel files we have.\n",
    "\n",
    "Based on my excel file, I know that the relevant data is from row 5 (in python it is row 4 as counting starts from 0).\n",
    "\n",
    "And I use only columns A to L.\n",
    "\n",
    "In the function below, we first give the name of the excel file.\n",
    "\n",
    "Then we specify, from which row in the excel file is used to label our data. \n",
    "\n",
    "As row 4 (start counting at 0!!) has the column names, we say header is 4.\n"
   ]
  },
  {
   "cell_type": "code",
   "execution_count": 2,
   "metadata": {},
   "outputs": [],
   "source": [
    "df = pd.read_excel('sample_data/Data_1.xlsx',header=4,usecols='A:L',engine='openpyxl')"
   ]
  },
  {
   "cell_type": "markdown",
   "metadata": {},
   "source": [
    "This is how the file looks here now in form of a **DataFrame**"
   ]
  },
  {
   "cell_type": "code",
   "execution_count": 3,
   "metadata": {},
   "outputs": [
    {
     "data": {
      "text/html": [
       "<div>\n",
       "<style scoped>\n",
       "    .dataframe tbody tr th:only-of-type {\n",
       "        vertical-align: middle;\n",
       "    }\n",
       "\n",
       "    .dataframe tbody tr th {\n",
       "        vertical-align: top;\n",
       "    }\n",
       "\n",
       "    .dataframe thead th {\n",
       "        text-align: right;\n",
       "    }\n",
       "</style>\n",
       "<table border=\"1\" class=\"dataframe\">\n",
       "  <thead>\n",
       "    <tr style=\"text-align: right;\">\n",
       "      <th></th>\n",
       "      <th>Unnamed: 0</th>\n",
       "      <th>Time (s)</th>\n",
       "      <th>Temperature (°C)</th>\n",
       "      <th>Change in Length (µm)</th>\n",
       "      <th>Force (N)</th>\n",
       "      <th>Change in length (µm)</th>\n",
       "      <th>Abs. Change in length (µm)</th>\n",
       "      <th>Eng. Strain</th>\n",
       "      <th>Eng. Stress (MPa)</th>\n",
       "      <th>Length (µm)</th>\n",
       "      <th>True Strain</th>\n",
       "      <th>True Stress</th>\n",
       "    </tr>\n",
       "  </thead>\n",
       "  <tbody>\n",
       "    <tr>\n",
       "      <th>0</th>\n",
       "      <td>4</td>\n",
       "      <td>0.000958</td>\n",
       "      <td>999.203430</td>\n",
       "      <td>80.129005</td>\n",
       "      <td>10.600432</td>\n",
       "      <td>0.000000</td>\n",
       "      <td>0.000000</td>\n",
       "      <td>0.000000</td>\n",
       "      <td>0.539876</td>\n",
       "      <td>10.000000</td>\n",
       "      <td>0.000000</td>\n",
       "      <td>0.539876</td>\n",
       "    </tr>\n",
       "    <tr>\n",
       "      <th>1</th>\n",
       "      <td>5</td>\n",
       "      <td>0.001274</td>\n",
       "      <td>999.178467</td>\n",
       "      <td>79.966232</td>\n",
       "      <td>10.680738</td>\n",
       "      <td>-0.162773</td>\n",
       "      <td>0.162773</td>\n",
       "      <td>-0.000016</td>\n",
       "      <td>0.543966</td>\n",
       "      <td>9.999837</td>\n",
       "      <td>0.000016</td>\n",
       "      <td>0.543957</td>\n",
       "    </tr>\n",
       "    <tr>\n",
       "      <th>2</th>\n",
       "      <td>6</td>\n",
       "      <td>0.001600</td>\n",
       "      <td>999.369263</td>\n",
       "      <td>80.590210</td>\n",
       "      <td>12.420709</td>\n",
       "      <td>0.461205</td>\n",
       "      <td>-0.461205</td>\n",
       "      <td>0.000046</td>\n",
       "      <td>0.632581</td>\n",
       "      <td>10.000461</td>\n",
       "      <td>-0.000046</td>\n",
       "      <td>0.632611</td>\n",
       "    </tr>\n",
       "    <tr>\n",
       "      <th>3</th>\n",
       "      <td>7</td>\n",
       "      <td>0.001916</td>\n",
       "      <td>999.375610</td>\n",
       "      <td>80.548386</td>\n",
       "      <td>12.376094</td>\n",
       "      <td>0.419380</td>\n",
       "      <td>-0.419380</td>\n",
       "      <td>0.000042</td>\n",
       "      <td>0.630309</td>\n",
       "      <td>10.000419</td>\n",
       "      <td>-0.000042</td>\n",
       "      <td>0.630336</td>\n",
       "    </tr>\n",
       "    <tr>\n",
       "      <th>4</th>\n",
       "      <td>8</td>\n",
       "      <td>0.002231</td>\n",
       "      <td>999.448853</td>\n",
       "      <td>81.161438</td>\n",
       "      <td>13.069108</td>\n",
       "      <td>1.032433</td>\n",
       "      <td>-1.032433</td>\n",
       "      <td>0.000103</td>\n",
       "      <td>0.665604</td>\n",
       "      <td>10.001032</td>\n",
       "      <td>-0.000103</td>\n",
       "      <td>0.665673</td>\n",
       "    </tr>\n",
       "    <tr>\n",
       "      <th>...</th>\n",
       "      <td>...</td>\n",
       "      <td>...</td>\n",
       "      <td>...</td>\n",
       "      <td>...</td>\n",
       "      <td>...</td>\n",
       "      <td>...</td>\n",
       "      <td>...</td>\n",
       "      <td>...</td>\n",
       "      <td>...</td>\n",
       "      <td>...</td>\n",
       "      <td>...</td>\n",
       "      <td>...</td>\n",
       "    </tr>\n",
       "    <tr>\n",
       "      <th>3390</th>\n",
       "      <td>3394</td>\n",
       "      <td>1.085596</td>\n",
       "      <td>1003.625183</td>\n",
       "      <td>-5808.419434</td>\n",
       "      <td>13.129526</td>\n",
       "      <td>-5888.548439</td>\n",
       "      <td>5888.548439</td>\n",
       "      <td>-0.588855</td>\n",
       "      <td>0.668681</td>\n",
       "      <td>4.111452</td>\n",
       "      <td>0.888809</td>\n",
       "      <td>0.274925</td>\n",
       "    </tr>\n",
       "    <tr>\n",
       "      <th>3391</th>\n",
       "      <td>3395</td>\n",
       "      <td>1.085926</td>\n",
       "      <td>1003.529785</td>\n",
       "      <td>-5808.728516</td>\n",
       "      <td>12.607720</td>\n",
       "      <td>-5888.857521</td>\n",
       "      <td>5888.857521</td>\n",
       "      <td>-0.588886</td>\n",
       "      <td>0.642106</td>\n",
       "      <td>4.111142</td>\n",
       "      <td>0.888884</td>\n",
       "      <td>0.263979</td>\n",
       "    </tr>\n",
       "    <tr>\n",
       "      <th>3392</th>\n",
       "      <td>3396</td>\n",
       "      <td>1.086243</td>\n",
       "      <td>1003.397522</td>\n",
       "      <td>-5808.293457</td>\n",
       "      <td>13.705363</td>\n",
       "      <td>-5888.422462</td>\n",
       "      <td>5888.422462</td>\n",
       "      <td>-0.588842</td>\n",
       "      <td>0.698008</td>\n",
       "      <td>4.111578</td>\n",
       "      <td>0.888778</td>\n",
       "      <td>0.286992</td>\n",
       "    </tr>\n",
       "    <tr>\n",
       "      <th>3393</th>\n",
       "      <td>3397</td>\n",
       "      <td>1.086557</td>\n",
       "      <td>1003.240112</td>\n",
       "      <td>-5808.186523</td>\n",
       "      <td>13.714368</td>\n",
       "      <td>-5888.315529</td>\n",
       "      <td>5888.315529</td>\n",
       "      <td>-0.588832</td>\n",
       "      <td>0.698467</td>\n",
       "      <td>4.111684</td>\n",
       "      <td>0.888752</td>\n",
       "      <td>0.287188</td>\n",
       "    </tr>\n",
       "    <tr>\n",
       "      <th>3394</th>\n",
       "      <td>3398</td>\n",
       "      <td>1.086874</td>\n",
       "      <td>1003.100525</td>\n",
       "      <td>-5808.115234</td>\n",
       "      <td>13.479452</td>\n",
       "      <td>-5888.244240</td>\n",
       "      <td>5888.244240</td>\n",
       "      <td>-0.588824</td>\n",
       "      <td>0.686503</td>\n",
       "      <td>4.111756</td>\n",
       "      <td>0.888735</td>\n",
       "      <td>0.282273</td>\n",
       "    </tr>\n",
       "  </tbody>\n",
       "</table>\n",
       "<p>3395 rows × 12 columns</p>\n",
       "</div>"
      ],
      "text/plain": [
       "      Unnamed: 0  Time (s)  Temperature (°C)  Change in Length (µm)  \\\n",
       "0              4  0.000958        999.203430              80.129005   \n",
       "1              5  0.001274        999.178467              79.966232   \n",
       "2              6  0.001600        999.369263              80.590210   \n",
       "3              7  0.001916        999.375610              80.548386   \n",
       "4              8  0.002231        999.448853              81.161438   \n",
       "...          ...       ...               ...                    ...   \n",
       "3390        3394  1.085596       1003.625183           -5808.419434   \n",
       "3391        3395  1.085926       1003.529785           -5808.728516   \n",
       "3392        3396  1.086243       1003.397522           -5808.293457   \n",
       "3393        3397  1.086557       1003.240112           -5808.186523   \n",
       "3394        3398  1.086874       1003.100525           -5808.115234   \n",
       "\n",
       "      Force (N)  Change in length (µm)  Abs. Change in length (µm)  \\\n",
       "0     10.600432               0.000000                    0.000000   \n",
       "1     10.680738              -0.162773                    0.162773   \n",
       "2     12.420709               0.461205                   -0.461205   \n",
       "3     12.376094               0.419380                   -0.419380   \n",
       "4     13.069108               1.032433                   -1.032433   \n",
       "...         ...                    ...                         ...   \n",
       "3390  13.129526           -5888.548439                 5888.548439   \n",
       "3391  12.607720           -5888.857521                 5888.857521   \n",
       "3392  13.705363           -5888.422462                 5888.422462   \n",
       "3393  13.714368           -5888.315529                 5888.315529   \n",
       "3394  13.479452           -5888.244240                 5888.244240   \n",
       "\n",
       "      Eng. Strain  Eng. Stress (MPa)  Length (µm)  True Strain  True Stress  \n",
       "0        0.000000           0.539876    10.000000     0.000000     0.539876  \n",
       "1       -0.000016           0.543966     9.999837     0.000016     0.543957  \n",
       "2        0.000046           0.632581    10.000461    -0.000046     0.632611  \n",
       "3        0.000042           0.630309    10.000419    -0.000042     0.630336  \n",
       "4        0.000103           0.665604    10.001032    -0.000103     0.665673  \n",
       "...           ...                ...          ...          ...          ...  \n",
       "3390    -0.588855           0.668681     4.111452     0.888809     0.274925  \n",
       "3391    -0.588886           0.642106     4.111142     0.888884     0.263979  \n",
       "3392    -0.588842           0.698008     4.111578     0.888778     0.286992  \n",
       "3393    -0.588832           0.698467     4.111684     0.888752     0.287188  \n",
       "3394    -0.588824           0.686503     4.111756     0.888735     0.282273  \n",
       "\n",
       "[3395 rows x 12 columns]"
      ]
     },
     "execution_count": 3,
     "metadata": {},
     "output_type": "execute_result"
    }
   ],
   "source": [
    "df"
   ]
  },
  {
   "cell_type": "markdown",
   "metadata": {},
   "source": [
    "### Accessing data within a dataframe\n",
    "The data in the columns of a dataframe can be accessed by calling out the name of the column as shown below"
   ]
  },
  {
   "cell_type": "code",
   "execution_count": 4,
   "metadata": {},
   "outputs": [
    {
     "data": {
      "text/plain": [
       "0       0.000000\n",
       "1       0.000016\n",
       "2      -0.000046\n",
       "3      -0.000042\n",
       "4      -0.000103\n",
       "          ...   \n",
       "3390    0.888809\n",
       "3391    0.888884\n",
       "3392    0.888778\n",
       "3393    0.888752\n",
       "3394    0.888735\n",
       "Name: True Strain, Length: 3395, dtype: float64"
      ]
     },
     "execution_count": 4,
     "metadata": {},
     "output_type": "execute_result"
    }
   ],
   "source": [
    "df['True Strain']"
   ]
  },
  {
   "cell_type": "markdown",
   "metadata": {},
   "source": [
    "### Plotting"
   ]
  },
  {
   "cell_type": "code",
   "execution_count": 5,
   "metadata": {},
   "outputs": [
    {
     "data": {
      "text/plain": [
       "[<matplotlib.lines.Line2D at 0x7fb07be61b80>]"
      ]
     },
     "execution_count": 5,
     "metadata": {},
     "output_type": "execute_result"
    },
    {
     "data": {
      "image/png": "[encoded data removed]",
      "text/plain": [
       "<Figure size 432x288 with 1 Axes>"
      ]
     },
     "metadata": {
      "needs_background": "light"
     },
     "output_type": "display_data"
    }
   ],
   "source": [
    "PyPlot.plot(df['True Strain'],df['True Stress'])"
   ]
  },
  {
   "cell_type": "markdown",
   "metadata": {},
   "source": [
    "## Looping over files\n",
    "But as we want to use the power that python provides, we would like to do everything at once. \n",
    "***Loop*** give us this power - Looping is basically repeating a set of commands number of times\n",
    "\n",
    "Also we need to know something about the datatypes in python: \n",
    "**Lists** and **Dictionaries**\n"
   ]
  },
  {
   "cell_type": "markdown",
   "metadata": {},
   "source": [
    "### List example\n",
    "This is an example of list. It is denoted by square brackets **[ ]**\n",
    "\n",
    "It is used to store iterable (looping possibilities) items to be called by a single variable."
   ]
  },
  {
   "cell_type": "code",
   "execution_count": 6,
   "metadata": {},
   "outputs": [],
   "source": [
    "# empty list\n",
    "example_list = []\n",
    "\n",
    "# list of integers\n",
    "example_list = [1, 2, 3]"
   ]
  },
  {
   "cell_type": "code",
   "execution_count": 7,
   "metadata": {},
   "outputs": [
    {
     "data": {
      "text/plain": [
       "1"
      ]
     },
     "execution_count": 7,
     "metadata": {},
     "output_type": "execute_result"
    }
   ],
   "source": [
    "# Call list items\n",
    "example_list[0]"
   ]
  },
  {
   "cell_type": "code",
   "execution_count": 8,
   "metadata": {},
   "outputs": [
    {
     "name": "stdout",
     "output_type": "stream",
     "text": [
      "1\n",
      "2\n",
      "3\n"
     ]
    }
   ],
   "source": [
    "# meaning of iterable - can be looped over\n",
    "for i in example_list:\n",
    "    print(i)"
   ]
  },
  {
   "cell_type": "markdown",
   "metadata": {},
   "source": [
    "### Dictionary example\n",
    "Dictionary is similar to our 'normal' dictionaries. They are denoted by curly brackets **{ }**. \n",
    "\n",
    "Dictionaries can store any kind of data/data structure as values.\n",
    "\n",
    "We have key and value pairs."
   ]
  },
  {
   "cell_type": "code",
   "execution_count": 9,
   "metadata": {},
   "outputs": [],
   "source": [
    "example_dict = {'a':1, 'b': 2}\n",
    "example_dict = {'a':'Apple', 'b': 'Banana'}\n",
    "example_dict = {'a':[1,2,3], 'b': [4,5,6]}"
   ]
  },
  {
   "cell_type": "code",
   "execution_count": 10,
   "metadata": {},
   "outputs": [
    {
     "data": {
      "text/plain": [
       "dict_keys(['a', 'b'])"
      ]
     },
     "execution_count": 10,
     "metadata": {},
     "output_type": "execute_result"
    }
   ],
   "source": [
    "# to view the keys in the dictionaries\n",
    "example_dict.keys()"
   ]
  },
  {
   "cell_type": "code",
   "execution_count": 11,
   "metadata": {},
   "outputs": [
    {
     "data": {
      "text/plain": [
       "dict_values([[1, 2, 3], [4, 5, 6]])"
      ]
     },
     "execution_count": 11,
     "metadata": {},
     "output_type": "execute_result"
    }
   ],
   "source": [
    "# to view the values in the dictionaries\n",
    "example_dict.values()"
   ]
  },
  {
   "cell_type": "code",
   "execution_count": 12,
   "metadata": {},
   "outputs": [
    {
     "data": {
      "text/plain": [
       "dict_items([('a', [1, 2, 3]), ('b', [4, 5, 6])])"
      ]
     },
     "execution_count": 12,
     "metadata": {},
     "output_type": "execute_result"
    }
   ],
   "source": [
    "example_dict.items()"
   ]
  },
  {
   "cell_type": "code",
   "execution_count": 13,
   "metadata": {},
   "outputs": [
    {
     "data": {
      "text/plain": [
       "[1, 2, 3]"
      ]
     },
     "execution_count": 13,
     "metadata": {},
     "output_type": "execute_result"
    }
   ],
   "source": [
    "# what does one specific key correspond to?\n",
    "example_dict['a']"
   ]
  },
  {
   "cell_type": "code",
   "execution_count": 14,
   "metadata": {},
   "outputs": [
    {
     "name": "stdout",
     "output_type": "stream",
     "text": [
      "a\n",
      "b\n"
     ]
    }
   ],
   "source": [
    "# loop over keys\n",
    "for i in example_dict.keys():\n",
    "    print(i)"
   ]
  },
  {
   "cell_type": "code",
   "execution_count": 15,
   "metadata": {},
   "outputs": [
    {
     "name": "stdout",
     "output_type": "stream",
     "text": [
      "[1, 2, 3]\n",
      "[4, 5, 6]\n"
     ]
    }
   ],
   "source": [
    "# loop over values directly\n",
    "for i in example_dict.values():\n",
    "    print(i)"
   ]
  },
  {
   "cell_type": "code",
   "execution_count": 16,
   "metadata": {},
   "outputs": [
    {
     "name": "stdout",
     "output_type": "stream",
     "text": [
      "('a', [1, 2, 3])\n",
      "('b', [4, 5, 6])\n"
     ]
    }
   ],
   "source": [
    "# loop over items\n",
    "for i in example_dict.items():\n",
    "    print(i)"
   ]
  },
  {
   "cell_type": "markdown",
   "metadata": {},
   "source": [
    "In the example below, the list has multiple file names which we can loop over (iterable)."
   ]
  },
  {
   "cell_type": "code",
   "execution_count": 17,
   "metadata": {},
   "outputs": [
    {
     "data": {
      "text/plain": [
       "['Data_1.xlsx', 'Data_4.xlsx', 'Data_2.xlsx', 'Data_3.xlsx']"
      ]
     },
     "execution_count": 17,
     "metadata": {},
     "output_type": "execute_result"
    }
   ],
   "source": [
    "os.listdir('sample_data/')"
   ]
  },
  {
   "cell_type": "code",
   "execution_count": 18,
   "metadata": {},
   "outputs": [],
   "source": [
    "data_dict = {}\n",
    "for i in os.listdir('sample_data/'):\n",
    "    data_dict[i] = pd.read_excel('sample_data/'+i,header=4,usecols='A:L',engine='openpyxl')"
   ]
  },
  {
   "cell_type": "code",
   "execution_count": 19,
   "metadata": {},
   "outputs": [
    {
     "data": {
      "text/plain": [
       "dict_keys(['Data_1.xlsx', 'Data_4.xlsx', 'Data_2.xlsx', 'Data_3.xlsx'])"
      ]
     },
     "execution_count": 19,
     "metadata": {},
     "output_type": "execute_result"
    }
   ],
   "source": [
    "data_dict.keys()"
   ]
  },
  {
   "cell_type": "code",
   "execution_count": 20,
   "metadata": {},
   "outputs": [
    {
     "data": {
      "text/html": [
       "<div>\n",
       "<style scoped>\n",
       "    .dataframe tbody tr th:only-of-type {\n",
       "        vertical-align: middle;\n",
       "    }\n",
       "\n",
       "    .dataframe tbody tr th {\n",
       "        vertical-align: top;\n",
       "    }\n",
       "\n",
       "    .dataframe thead th {\n",
       "        text-align: right;\n",
       "    }\n",
       "</style>\n",
       "<table border=\"1\" class=\"dataframe\">\n",
       "  <thead>\n",
       "    <tr style=\"text-align: right;\">\n",
       "      <th></th>\n",
       "      <th>Unnamed: 0</th>\n",
       "      <th>Time (s)</th>\n",
       "      <th>Temperature (°C)</th>\n",
       "      <th>Change in Length (µm)</th>\n",
       "      <th>Force (N)</th>\n",
       "      <th>Change in length (µm)</th>\n",
       "      <th>Abs. Change in length (µm)</th>\n",
       "      <th>Eng. Strain</th>\n",
       "      <th>Eng. Stress (MPa)</th>\n",
       "      <th>Length (µm)</th>\n",
       "      <th>True Strain</th>\n",
       "      <th>True Stress</th>\n",
       "    </tr>\n",
       "  </thead>\n",
       "  <tbody>\n",
       "    <tr>\n",
       "      <th>0</th>\n",
       "      <td>4</td>\n",
       "      <td>0.000958</td>\n",
       "      <td>999.203430</td>\n",
       "      <td>80.129005</td>\n",
       "      <td>10.600432</td>\n",
       "      <td>0.000000</td>\n",
       "      <td>0.000000</td>\n",
       "      <td>0.000000</td>\n",
       "      <td>0.539876</td>\n",
       "      <td>10.000000</td>\n",
       "      <td>0.000000</td>\n",
       "      <td>0.539876</td>\n",
       "    </tr>\n",
       "    <tr>\n",
       "      <th>1</th>\n",
       "      <td>5</td>\n",
       "      <td>0.001274</td>\n",
       "      <td>999.178467</td>\n",
       "      <td>79.966232</td>\n",
       "      <td>10.680738</td>\n",
       "      <td>-0.162773</td>\n",
       "      <td>0.162773</td>\n",
       "      <td>-0.000016</td>\n",
       "      <td>0.543966</td>\n",
       "      <td>9.999837</td>\n",
       "      <td>0.000016</td>\n",
       "      <td>0.543957</td>\n",
       "    </tr>\n",
       "    <tr>\n",
       "      <th>2</th>\n",
       "      <td>6</td>\n",
       "      <td>0.001600</td>\n",
       "      <td>999.369263</td>\n",
       "      <td>80.590210</td>\n",
       "      <td>12.420709</td>\n",
       "      <td>0.461205</td>\n",
       "      <td>-0.461205</td>\n",
       "      <td>0.000046</td>\n",
       "      <td>0.632581</td>\n",
       "      <td>10.000461</td>\n",
       "      <td>-0.000046</td>\n",
       "      <td>0.632611</td>\n",
       "    </tr>\n",
       "    <tr>\n",
       "      <th>3</th>\n",
       "      <td>7</td>\n",
       "      <td>0.001916</td>\n",
       "      <td>999.375610</td>\n",
       "      <td>80.548386</td>\n",
       "      <td>12.376094</td>\n",
       "      <td>0.419380</td>\n",
       "      <td>-0.419380</td>\n",
       "      <td>0.000042</td>\n",
       "      <td>0.630309</td>\n",
       "      <td>10.000419</td>\n",
       "      <td>-0.000042</td>\n",
       "      <td>0.630336</td>\n",
       "    </tr>\n",
       "    <tr>\n",
       "      <th>4</th>\n",
       "      <td>8</td>\n",
       "      <td>0.002231</td>\n",
       "      <td>999.448853</td>\n",
       "      <td>81.161438</td>\n",
       "      <td>13.069108</td>\n",
       "      <td>1.032433</td>\n",
       "      <td>-1.032433</td>\n",
       "      <td>0.000103</td>\n",
       "      <td>0.665604</td>\n",
       "      <td>10.001032</td>\n",
       "      <td>-0.000103</td>\n",
       "      <td>0.665673</td>\n",
       "    </tr>\n",
       "    <tr>\n",
       "      <th>...</th>\n",
       "      <td>...</td>\n",
       "      <td>...</td>\n",
       "      <td>...</td>\n",
       "      <td>...</td>\n",
       "      <td>...</td>\n",
       "      <td>...</td>\n",
       "      <td>...</td>\n",
       "      <td>...</td>\n",
       "      <td>...</td>\n",
       "      <td>...</td>\n",
       "      <td>...</td>\n",
       "      <td>...</td>\n",
       "    </tr>\n",
       "    <tr>\n",
       "      <th>3390</th>\n",
       "      <td>3394</td>\n",
       "      <td>1.085596</td>\n",
       "      <td>1003.625183</td>\n",
       "      <td>-5808.419434</td>\n",
       "      <td>13.129526</td>\n",
       "      <td>-5888.548439</td>\n",
       "      <td>5888.548439</td>\n",
       "      <td>-0.588855</td>\n",
       "      <td>0.668681</td>\n",
       "      <td>4.111452</td>\n",
       "      <td>0.888809</td>\n",
       "      <td>0.274925</td>\n",
       "    </tr>\n",
       "    <tr>\n",
       "      <th>3391</th>\n",
       "      <td>3395</td>\n",
       "      <td>1.085926</td>\n",
       "      <td>1003.529785</td>\n",
       "      <td>-5808.728516</td>\n",
       "      <td>12.607720</td>\n",
       "      <td>-5888.857521</td>\n",
       "      <td>5888.857521</td>\n",
       "      <td>-0.588886</td>\n",
       "      <td>0.642106</td>\n",
       "      <td>4.111142</td>\n",
       "      <td>0.888884</td>\n",
       "      <td>0.263979</td>\n",
       "    </tr>\n",
       "    <tr>\n",
       "      <th>3392</th>\n",
       "      <td>3396</td>\n",
       "      <td>1.086243</td>\n",
       "      <td>1003.397522</td>\n",
       "      <td>-5808.293457</td>\n",
       "      <td>13.705363</td>\n",
       "      <td>-5888.422462</td>\n",
       "      <td>5888.422462</td>\n",
       "      <td>-0.588842</td>\n",
       "      <td>0.698008</td>\n",
       "      <td>4.111578</td>\n",
       "      <td>0.888778</td>\n",
       "      <td>0.286992</td>\n",
       "    </tr>\n",
       "    <tr>\n",
       "      <th>3393</th>\n",
       "      <td>3397</td>\n",
       "      <td>1.086557</td>\n",
       "      <td>1003.240112</td>\n",
       "      <td>-5808.186523</td>\n",
       "      <td>13.714368</td>\n",
       "      <td>-5888.315529</td>\n",
       "      <td>5888.315529</td>\n",
       "      <td>-0.588832</td>\n",
       "      <td>0.698467</td>\n",
       "      <td>4.111684</td>\n",
       "      <td>0.888752</td>\n",
       "      <td>0.287188</td>\n",
       "    </tr>\n",
       "    <tr>\n",
       "      <th>3394</th>\n",
       "      <td>3398</td>\n",
       "      <td>1.086874</td>\n",
       "      <td>1003.100525</td>\n",
       "      <td>-5808.115234</td>\n",
       "      <td>13.479452</td>\n",
       "      <td>-5888.244240</td>\n",
       "      <td>5888.244240</td>\n",
       "      <td>-0.588824</td>\n",
       "      <td>0.686503</td>\n",
       "      <td>4.111756</td>\n",
       "      <td>0.888735</td>\n",
       "      <td>0.282273</td>\n",
       "    </tr>\n",
       "  </tbody>\n",
       "</table>\n",
       "<p>3395 rows × 12 columns</p>\n",
       "</div>"
      ],
      "text/plain": [
       "      Unnamed: 0  Time (s)  Temperature (°C)  Change in Length (µm)  \\\n",
       "0              4  0.000958        999.203430              80.129005   \n",
       "1              5  0.001274        999.178467              79.966232   \n",
       "2              6  0.001600        999.369263              80.590210   \n",
       "3              7  0.001916        999.375610              80.548386   \n",
       "4              8  0.002231        999.448853              81.161438   \n",
       "...          ...       ...               ...                    ...   \n",
       "3390        3394  1.085596       1003.625183           -5808.419434   \n",
       "3391        3395  1.085926       1003.529785           -5808.728516   \n",
       "3392        3396  1.086243       1003.397522           -5808.293457   \n",
       "3393        3397  1.086557       1003.240112           -5808.186523   \n",
       "3394        3398  1.086874       1003.100525           -5808.115234   \n",
       "\n",
       "      Force (N)  Change in length (µm)  Abs. Change in length (µm)  \\\n",
       "0     10.600432               0.000000                    0.000000   \n",
       "1     10.680738              -0.162773                    0.162773   \n",
       "2     12.420709               0.461205                   -0.461205   \n",
       "3     12.376094               0.419380                   -0.419380   \n",
       "4     13.069108               1.032433                   -1.032433   \n",
       "...         ...                    ...                         ...   \n",
       "3390  13.129526           -5888.548439                 5888.548439   \n",
       "3391  12.607720           -5888.857521                 5888.857521   \n",
       "3392  13.705363           -5888.422462                 5888.422462   \n",
       "3393  13.714368           -5888.315529                 5888.315529   \n",
       "3394  13.479452           -5888.244240                 5888.244240   \n",
       "\n",
       "      Eng. Strain  Eng. Stress (MPa)  Length (µm)  True Strain  True Stress  \n",
       "0        0.000000           0.539876    10.000000     0.000000     0.539876  \n",
       "1       -0.000016           0.543966     9.999837     0.000016     0.543957  \n",
       "2        0.000046           0.632581    10.000461    -0.000046     0.632611  \n",
       "3        0.000042           0.630309    10.000419    -0.000042     0.630336  \n",
       "4        0.000103           0.665604    10.001032    -0.000103     0.665673  \n",
       "...           ...                ...          ...          ...          ...  \n",
       "3390    -0.588855           0.668681     4.111452     0.888809     0.274925  \n",
       "3391    -0.588886           0.642106     4.111142     0.888884     0.263979  \n",
       "3392    -0.588842           0.698008     4.111578     0.888778     0.286992  \n",
       "3393    -0.588832           0.698467     4.111684     0.888752     0.287188  \n",
       "3394    -0.588824           0.686503     4.111756     0.888735     0.282273  \n",
       "\n",
       "[3395 rows x 12 columns]"
      ]
     },
     "execution_count": 20,
     "metadata": {},
     "output_type": "execute_result"
    }
   ],
   "source": [
    "data_dict['Data_1.xlsx']"
   ]
  },
  {
   "cell_type": "markdown",
   "metadata": {},
   "source": [
    "#### Finding stress and strain limits in the whole dataset"
   ]
  },
  {
   "cell_type": "code",
   "execution_count": 21,
   "metadata": {},
   "outputs": [
    {
     "name": "stdout",
     "output_type": "stream",
     "text": [
      "      Unnamed: 0  Time (s)  Temperature (°C)  Change in Length (µm)  \\\n",
      "0              4  0.000958        999.203430              80.129005   \n",
      "1              5  0.001274        999.178467              79.966232   \n",
      "2              6  0.001600        999.369263              80.590210   \n",
      "3              7  0.001916        999.375610              80.548386   \n",
      "4              8  0.002231        999.448853              81.161438   \n",
      "...          ...       ...               ...                    ...   \n",
      "3390        3394  1.085596       1003.625183           -5808.419434   \n",
      "3391        3395  1.085926       1003.529785           -5808.728516   \n",
      "3392        3396  1.086243       1003.397522           -5808.293457   \n",
      "3393        3397  1.086557       1003.240112           -5808.186523   \n",
      "3394        3398  1.086874       1003.100525           -5808.115234   \n",
      "\n",
      "      Force (N)  Change in length (µm)  Abs. Change in length (µm)  \\\n",
      "0     10.600432               0.000000                    0.000000   \n",
      "1     10.680738              -0.162773                    0.162773   \n",
      "2     12.420709               0.461205                   -0.461205   \n",
      "3     12.376094               0.419380                   -0.419380   \n",
      "4     13.069108               1.032433                   -1.032433   \n",
      "...         ...                    ...                         ...   \n",
      "3390  13.129526           -5888.548439                 5888.548439   \n",
      "3391  12.607720           -5888.857521                 5888.857521   \n",
      "3392  13.705363           -5888.422462                 5888.422462   \n",
      "3393  13.714368           -5888.315529                 5888.315529   \n",
      "3394  13.479452           -5888.244240                 5888.244240   \n",
      "\n",
      "      Eng. Strain  Eng. Stress (MPa)  Length (µm)  True Strain  True Stress  \n",
      "0        0.000000           0.539876    10.000000     0.000000     0.539876  \n",
      "1       -0.000016           0.543966     9.999837     0.000016     0.543957  \n",
      "2        0.000046           0.632581    10.000461    -0.000046     0.632611  \n",
      "3        0.000042           0.630309    10.000419    -0.000042     0.630336  \n",
      "4        0.000103           0.665604    10.001032    -0.000103     0.665673  \n",
      "...           ...                ...          ...          ...          ...  \n",
      "3390    -0.588855           0.668681     4.111452     0.888809     0.274925  \n",
      "3391    -0.588886           0.642106     4.111142     0.888884     0.263979  \n",
      "3392    -0.588842           0.698008     4.111578     0.888778     0.286992  \n",
      "3393    -0.588832           0.698467     4.111684     0.888752     0.287188  \n",
      "3394    -0.588824           0.686503     4.111756     0.888735     0.282273  \n",
      "\n",
      "[3395 rows x 12 columns]\n",
      "      Unnamed: 0  Time (s)  Temperature (°C)  Change in Length (µm)  \\\n",
      "0              4  0.000399        999.325928              83.389412   \n",
      "1              5  0.000537        999.300781              83.379242   \n",
      "2              6  0.000675        999.301025              83.647148   \n",
      "3              7  0.000813        999.370605              83.917305   \n",
      "4              8  0.000936        999.451599              84.188972   \n",
      "...          ...       ...               ...                    ...   \n",
      "1467        1471  0.196922       1014.500244           -5384.398926   \n",
      "1468        1472  0.197056       1014.570801           -5387.557129   \n",
      "1469        1473  0.197187       1014.549377           -5390.486816   \n",
      "1470        1474  0.197319       1014.569092           -5393.080566   \n",
      "1471        1475  0.197462       1014.599854           -5395.908691   \n",
      "\n",
      "       Force (N)  Change in length (µm)  Abs. Change in length (µm)  \\\n",
      "0      11.001963               0.000000                    0.000000   \n",
      "1      10.466588              -0.010170                    0.010170   \n",
      "2      11.073347               0.257736                   -0.257736   \n",
      "3      11.718772               0.527893                   -0.527893   \n",
      "4      12.871812               0.799561                   -0.799561   \n",
      "...          ...                    ...                         ...   \n",
      "1467  388.603180           -5467.788338                 5467.788338   \n",
      "1468  353.027161           -5470.946541                 5470.946541   \n",
      "1469  321.359497           -5473.876228                 5473.876228   \n",
      "1470  293.742920           -5476.469978                 5476.469978   \n",
      "1471  267.622437           -5479.298103                 5479.298103   \n",
      "\n",
      "      Eng. Strain  Eng. Stress (MPa)  Length (µm)  True Strain  True Stress  \n",
      "0        0.000000           0.560325    10.000000     0.000000     0.560325  \n",
      "1       -0.000001           0.533059     9.999990     0.000001     0.533058  \n",
      "2        0.000026           0.563961    10.000258    -0.000026     0.563975  \n",
      "3        0.000053           0.596832    10.000528    -0.000053     0.596864  \n",
      "4        0.000080           0.655556    10.000800    -0.000080     0.655608  \n",
      "...           ...                ...          ...          ...          ...  \n",
      "1467    -0.546779          19.791397     4.532212     0.791375     8.969880  \n",
      "1468    -0.547095          17.979526     4.529053     0.792072     8.143023  \n",
      "1469    -0.547388          16.366705     4.526124     0.792719     7.407773  \n",
      "1470    -0.547647          14.960204     4.523530     0.793292     6.767293  \n",
      "1471    -0.547930          13.629899     4.520702     0.793918     6.161671  \n",
      "\n",
      "[1472 rows x 12 columns]\n",
      "      Unnamed: 0   Time (s)  Temperature (°C)  Change in Length (µm)  \\\n",
      "0              4   0.006903        999.615540              81.876900   \n",
      "1              5   0.009202        999.556030              81.602211   \n",
      "2              6   0.011494        999.516357              81.327522   \n",
      "3              7   0.013791        999.455444              81.144394   \n",
      "4              8   0.016095        999.432007              81.296997   \n",
      "...          ...        ...               ...                    ...   \n",
      "4627        4631  10.648849        999.443848           -5831.247559   \n",
      "4628        4632  10.651155        999.547302           -5831.259277   \n",
      "4629        4633  10.653448        999.564636           -5831.907715   \n",
      "4630        4634  10.655751        999.593567           -5831.424805   \n",
      "4631        4635  10.658044        999.560974           -5831.743652   \n",
      "\n",
      "      Force (N)  Change in length (µm)  Abs. Change in length (µm)  \\\n",
      "0     11.162577               0.000000                    0.000000   \n",
      "1     11.055502              -0.274689                    0.274689   \n",
      "2     11.225038              -0.549377                    0.549377   \n",
      "3     11.338061              -0.732506                    0.732506   \n",
      "4     11.654329              -0.579903                    0.579903   \n",
      "...         ...                    ...                         ...   \n",
      "4627  12.903242           -5913.124458                 5913.124458   \n",
      "4628  12.938702           -5913.136177                 5913.136177   \n",
      "4629  11.034990           -5913.784615                 5913.784615   \n",
      "4630  12.897795           -5913.301704                 5913.301704   \n",
      "4631  12.453233           -5913.620552                 5913.620552   \n",
      "\n",
      "      Eng. Strain  Eng. Stress (MPa)  Length (µm)  True Strain  True Stress  \n",
      "0        0.000000           0.568505    10.000000     0.000000     0.568505  \n",
      "1       -0.000027           0.563052     9.999725     0.000027     0.563037  \n",
      "2       -0.000055           0.571686     9.999451     0.000055     0.571655  \n",
      "3       -0.000073           0.577443     9.999267     0.000073     0.577400  \n",
      "4       -0.000058           0.593550     9.999420     0.000058     0.593516  \n",
      "...           ...                ...          ...          ...          ...  \n",
      "4627    -0.591312           0.657157     4.086876     0.894804     0.268572  \n",
      "4628    -0.591314           0.658963     4.086864     0.894807     0.269309  \n",
      "4629    -0.591378           0.562007     4.086215     0.894966     0.229648  \n",
      "4630    -0.591330           0.656879     4.086698     0.894848     0.268447  \n",
      "4631    -0.591362           0.634238     4.086379     0.894926     0.259174  \n",
      "\n",
      "[4632 rows x 12 columns]\n",
      "      Unnamed: 0   Time (s)  Temperature (°C)  Change in Length (µm)  \\\n",
      "0              4   0.060899        999.969604             102.866692   \n",
      "1              5   0.081204       1000.002319             102.988777   \n",
      "2              6   0.101496       1000.093262             103.161728   \n",
      "3              7   0.121794       1000.102356             103.093903   \n",
      "4              8   0.142101       1000.090698             103.140251   \n",
      "...          ...        ...               ...                    ...   \n",
      "4693        4697  95.314156       1000.205078           -5779.919434   \n",
      "4694        4698  95.334450       1000.283020           -5779.666992   \n",
      "4695        4699  95.354759       1000.282898           -5779.498535   \n",
      "4696        4700  95.375061       1000.248535           -5779.386230   \n",
      "4697        4701  95.395363       1000.208374           -5779.585938   \n",
      "\n",
      "      Force (N)  Change in length (µm)  Abs. Change in length (µm)  \\\n",
      "0     15.418810               0.000000                    0.000000   \n",
      "1     15.338504               0.122086                   -0.122086   \n",
      "2     15.766804               0.295036                   -0.295036   \n",
      "3     15.329580               0.227211                   -0.227211   \n",
      "4     15.279017               0.273560                   -0.273560   \n",
      "...         ...                    ...                         ...   \n",
      "4693  12.726547           -5882.786125                 5882.786125   \n",
      "4694  12.820906           -5882.533684                 5882.533684   \n",
      "4695  13.606567           -5882.365227                 5882.365227   \n",
      "4696  13.889423           -5882.252922                 5882.252922   \n",
      "4697  12.632481           -5882.452629                 5882.452629   \n",
      "\n",
      "      Eng. Strain  Eng. Stress (MPa)  Length (µm)  True Strain  True Stress  \n",
      "0        0.000000           0.785274    10.000000     0.000000     0.785274  \n",
      "1        0.000012           0.781184    10.000122    -0.000012     0.781193  \n",
      "2        0.000030           0.802997    10.000295    -0.000030     0.803020  \n",
      "3        0.000023           0.780729    10.000227    -0.000023     0.780747  \n",
      "4        0.000027           0.778154    10.000274    -0.000027     0.778175  \n",
      "...           ...                ...          ...          ...          ...  \n",
      "4693    -0.588279           0.648158     4.117214     0.887408     0.266860  \n",
      "4694    -0.588253           0.652963     4.117466     0.887347     0.268855  \n",
      "4695    -0.588237           0.692977     4.117635     0.887306     0.285343  \n",
      "4696    -0.588225           0.707383     4.117747     0.887279     0.291282  \n",
      "4697    -0.588245           0.643367     4.117547     0.887327     0.264909  \n",
      "\n",
      "[4698 rows x 12 columns]\n"
     ]
    }
   ],
   "source": [
    "for i in data_dict.values():\n",
    "    print(i)"
   ]
  },
  {
   "cell_type": "code",
   "execution_count": 22,
   "metadata": {},
   "outputs": [],
   "source": [
    "max_stress_lim = 0.0\n",
    "max_strain_lim = 0.0\n",
    "for expt_data in data_dict.values():\n",
    "    max_y_lim = np.max(expt_data['True Stress'])   #finding maximum stress for a given file\n",
    "    max_x_lim = np.max(expt_data['True Strain'])   #finding maximum strain for a given file\n",
    "    if max_y_lim > max_stress_lim:\n",
    "        max_stress_lim = max_y_lim\n",
    "    if max_x_lim > max_strain_lim:\n",
    "        max_strain_lim = max_x_lim"
   ]
  },
  {
   "cell_type": "code",
   "execution_count": 23,
   "metadata": {},
   "outputs": [
    {
     "data": {
      "text/plain": [
       "0.8982107658233847"
      ]
     },
     "execution_count": 23,
     "metadata": {},
     "output_type": "execute_result"
    }
   ],
   "source": [
    "max_strain_lim"
   ]
  },
  {
   "cell_type": "code",
   "execution_count": 24,
   "metadata": {},
   "outputs": [
    {
     "data": {
      "text/plain": [
       "253.67019269840904"
      ]
     },
     "execution_count": 24,
     "metadata": {},
     "output_type": "execute_result"
    }
   ],
   "source": [
    "max_stress_lim"
   ]
  },
  {
   "cell_type": "markdown",
   "metadata": {},
   "source": [
    "Rounding off values"
   ]
  },
  {
   "cell_type": "code",
   "execution_count": 25,
   "metadata": {},
   "outputs": [],
   "source": [
    "max_strain_lim = round(max_strain_lim * 2.0) / 2.0\n",
    "max_stress_lim = (round(max_stress_lim/50.0)+2.0)*50.0"
   ]
  },
  {
   "cell_type": "code",
   "execution_count": 26,
   "metadata": {},
   "outputs": [
    {
     "data": {
      "text/plain": [
       "(350.0, 1.0)"
      ]
     },
     "execution_count": 26,
     "metadata": {},
     "output_type": "execute_result"
    }
   ],
   "source": [
    "max_stress_lim,max_strain_lim"
   ]
  },
  {
   "cell_type": "markdown",
   "metadata": {},
   "source": [
    "## Plot settings"
   ]
  },
  {
   "cell_type": "code",
   "execution_count": 27,
   "metadata": {},
   "outputs": [],
   "source": [
    "set_colors = ['black','red','teal','fuchsia','blue'] # https://matplotlib.org/gallery/color/named_colors.html"
   ]
  },
  {
   "cell_type": "code",
   "execution_count": 28,
   "metadata": {},
   "outputs": [],
   "source": [
    "# might remove it if it is too much\n",
    "#PyPlot.rcParams[\"text.usetex\"] =True  \n",
    "#using latex rendering https://stackoverflow.com/questions/43741928/matplotlib-raw-latex-epsilon-only-yields-varepsilon"
   ]
  },
  {
   "cell_type": "code",
   "execution_count": 29,
   "metadata": {},
   "outputs": [],
   "source": [
    "linestyle_list = ['solid', 'dashed', 'dashdot', 'dotted']\n",
    "label_list = [1073,1173,1273,1373]"
   ]
  },
  {
   "cell_type": "code",
   "execution_count": 30,
   "metadata": {},
   "outputs": [
    {
     "data": {
      "image/png": "[encoded data removed]",
      "text/plain": [
       "<Figure size 432x288 with 1 Axes>"
      ]
     },
     "metadata": {
      "needs_background": "light"
     },
     "output_type": "display_data"
    }
   ],
   "source": [
    "fig, ax = PyPlot.subplots()\n",
    "ax.tick_params(which='both',direction=\"in\",top=True,right=True)\n",
    "ax.minorticks_on()\n",
    "\n",
    "#for count,i in enumerate(data_dict.keys()):\n",
    "for datas,line,colors,labels in zip(data_dict.values(),linestyle_list,set_colors,label_list):\n",
    "    PyPlot.plot(datas['True Strain'],\n",
    "                datas['True Stress'],\n",
    "                color=colors,\n",
    "                linewidth = 2.5,\n",
    "                linestyle = line,\n",
    "                label = labels\n",
    "                )\n",
    "    PyPlot.xlim(-0.025,max_strain_lim)\n",
    "    PyPlot.ylim(0.0,max_stress_lim)\n",
    "    PyPlot.xlabel(r'$\\epsilon$(-)',fontsize=18)   # latex based symbols\n",
    "    PyPlot.ylabel(r'$\\sigma$ (MPa)',fontsize=18)\n",
    "    PyPlot.legend(title=r'$ T (\\mathrm{K})$')#,title_fontsize ='large')\n",
    "        \n",
    "fig.savefig('multi_stress_strain.png',dpi=600)"
   ]
  },
  {
   "cell_type": "markdown",
   "metadata": {},
   "source": [
    "### Cutting off data\n",
    "\n",
    "Can be done automatically but I guess it might be quite difficult for starters as it involves smoothing and fitting and so on"
   ]
  },
  {
   "cell_type": "code",
   "execution_count": 31,
   "metadata": {},
   "outputs": [],
   "source": [
    "cut_off_strains = []\n",
    "data_dict_2 = {}\n",
    "data_dict_2['Data_1.xlsx'] = data_dict['Data_1.xlsx'].loc[data_dict['Data_1.xlsx']['True Strain'] < 0.88]\n"
   ]
  },
  {
   "cell_type": "code",
   "execution_count": 32,
   "metadata": {},
   "outputs": [
    {
     "data": {
      "text/plain": [
       "[<matplotlib.lines.Line2D at 0x7fb080111160>]"
      ]
     },
     "execution_count": 32,
     "metadata": {},
     "output_type": "execute_result"
    },
    {
     "data": {
      "image/png": "[encoded data removed]",
      "text/plain": [
       "<Figure size 432x288 with 1 Axes>"
      ]
     },
     "metadata": {
      "needs_background": "light"
     },
     "output_type": "display_data"
    }
   ],
   "source": [
    "PyPlot.plot(data_dict_2['Data_1.xlsx']['True Strain'],data_dict_2['Data_1.xlsx']['True Stress'])"
   ]
  },
  {
   "cell_type": "markdown",
   "metadata": {},
   "source": [
    "## Automating cut off"
   ]
  },
  {
   "cell_type": "markdown",
   "metadata": {},
   "source": [
    "Idea: See where the derivative drops significantly\n",
    "\n",
    "For automation might need smooth data\n",
    "\n",
    "Need simpler ideas for python newbies. I dont want to make a complicated code. "
   ]
  },
  {
   "cell_type": "code",
   "execution_count": 33,
   "metadata": {},
   "outputs": [],
   "source": [
    "from scipy.signal import savgol_filter"
   ]
  },
  {
   "cell_type": "code",
   "execution_count": 34,
   "metadata": {},
   "outputs": [
    {
     "data": {
      "text/plain": [
       "[<matplotlib.lines.Line2D at 0x7fb0759e8e50>]"
      ]
     },
     "execution_count": 34,
     "metadata": {},
     "output_type": "execute_result"
    },
    {
     "data": {
      "image/png": "[encoded data removed]",
      "text/plain": [
       "<Figure size 432x288 with 2 Axes>"
      ]
     },
     "metadata": {
      "needs_background": "light"
     },
     "output_type": "display_data"
    }
   ],
   "source": [
    "fig,ax1 = PyPlot.subplots()\n",
    "ax1.plot(data_dict['Data_4.xlsx']['True Strain'],savgol_filter(data_dict['Data_4.xlsx']['True Stress'],31,9,deriv=1))\n",
    "ax2 = ax1.twinx()\n",
    "ax2.plot(data_dict['Data_4.xlsx']['True Strain'],data_dict['Data_4.xlsx']['True Stress'])"
   ]
  },
  {
   "cell_type": "code",
   "execution_count": 35,
   "metadata": {},
   "outputs": [
    {
     "data": {
      "text/plain": [
       "0.8953057035808059"
      ]
     },
     "execution_count": 35,
     "metadata": {},
     "output_type": "execute_result"
    }
   ],
   "source": [
    "index_min = np.argmin(savgol_filter(data_dict['Data_1.xlsx']['True Stress'],71,9,deriv=1))\n",
    "data_dict['Data_1.xlsx']['True Strain'][index_min]"
   ]
  },
  {
   "cell_type": "code",
   "execution_count": 36,
   "metadata": {},
   "outputs": [
    {
     "data": {
      "text/plain": [
       "0.88"
      ]
     },
     "execution_count": 36,
     "metadata": {},
     "output_type": "execute_result"
    }
   ],
   "source": [
    "math.floor(0.8953057035808059*50.0)/50.0"
   ]
  },
  {
   "cell_type": "code",
   "execution_count": 37,
   "metadata": {},
   "outputs": [
    {
     "data": {
      "text/html": [
       "<div>\n",
       "<style scoped>\n",
       "    .dataframe tbody tr th:only-of-type {\n",
       "        vertical-align: middle;\n",
       "    }\n",
       "\n",
       "    .dataframe tbody tr th {\n",
       "        vertical-align: top;\n",
       "    }\n",
       "\n",
       "    .dataframe thead th {\n",
       "        text-align: right;\n",
       "    }\n",
       "</style>\n",
       "<table border=\"1\" class=\"dataframe\">\n",
       "  <thead>\n",
       "    <tr style=\"text-align: right;\">\n",
       "      <th></th>\n",
       "      <th>Unnamed: 0</th>\n",
       "      <th>Time (s)</th>\n",
       "      <th>Temperature (°C)</th>\n",
       "      <th>Change in Length (µm)</th>\n",
       "      <th>Force (N)</th>\n",
       "      <th>Change in length (µm)</th>\n",
       "      <th>Abs. Change in length (µm)</th>\n",
       "      <th>Eng. Strain</th>\n",
       "      <th>Eng. Stress (MPa)</th>\n",
       "      <th>Length (µm)</th>\n",
       "      <th>True Strain</th>\n",
       "      <th>True Stress</th>\n",
       "    </tr>\n",
       "  </thead>\n",
       "  <tbody>\n",
       "    <tr>\n",
       "      <th>0</th>\n",
       "      <td>4</td>\n",
       "      <td>0.000399</td>\n",
       "      <td>999.325928</td>\n",
       "      <td>83.389412</td>\n",
       "      <td>11.001963</td>\n",
       "      <td>0.000000</td>\n",
       "      <td>0.000000</td>\n",
       "      <td>0.000000</td>\n",
       "      <td>0.560325</td>\n",
       "      <td>10.000000</td>\n",
       "      <td>0.000000</td>\n",
       "      <td>0.560325</td>\n",
       "    </tr>\n",
       "    <tr>\n",
       "      <th>1</th>\n",
       "      <td>5</td>\n",
       "      <td>0.000537</td>\n",
       "      <td>999.300781</td>\n",
       "      <td>83.379242</td>\n",
       "      <td>10.466588</td>\n",
       "      <td>-0.010170</td>\n",
       "      <td>0.010170</td>\n",
       "      <td>-0.000001</td>\n",
       "      <td>0.533059</td>\n",
       "      <td>9.999990</td>\n",
       "      <td>0.000001</td>\n",
       "      <td>0.533058</td>\n",
       "    </tr>\n",
       "    <tr>\n",
       "      <th>2</th>\n",
       "      <td>6</td>\n",
       "      <td>0.000675</td>\n",
       "      <td>999.301025</td>\n",
       "      <td>83.647148</td>\n",
       "      <td>11.073347</td>\n",
       "      <td>0.257736</td>\n",
       "      <td>-0.257736</td>\n",
       "      <td>0.000026</td>\n",
       "      <td>0.563961</td>\n",
       "      <td>10.000258</td>\n",
       "      <td>-0.000026</td>\n",
       "      <td>0.563975</td>\n",
       "    </tr>\n",
       "    <tr>\n",
       "      <th>3</th>\n",
       "      <td>7</td>\n",
       "      <td>0.000813</td>\n",
       "      <td>999.370605</td>\n",
       "      <td>83.917305</td>\n",
       "      <td>11.718772</td>\n",
       "      <td>0.527893</td>\n",
       "      <td>-0.527893</td>\n",
       "      <td>0.000053</td>\n",
       "      <td>0.596832</td>\n",
       "      <td>10.000528</td>\n",
       "      <td>-0.000053</td>\n",
       "      <td>0.596864</td>\n",
       "    </tr>\n",
       "    <tr>\n",
       "      <th>4</th>\n",
       "      <td>8</td>\n",
       "      <td>0.000936</td>\n",
       "      <td>999.451599</td>\n",
       "      <td>84.188972</td>\n",
       "      <td>12.871812</td>\n",
       "      <td>0.799561</td>\n",
       "      <td>-0.799561</td>\n",
       "      <td>0.000080</td>\n",
       "      <td>0.655556</td>\n",
       "      <td>10.000800</td>\n",
       "      <td>-0.000080</td>\n",
       "      <td>0.655608</td>\n",
       "    </tr>\n",
       "    <tr>\n",
       "      <th>...</th>\n",
       "      <td>...</td>\n",
       "      <td>...</td>\n",
       "      <td>...</td>\n",
       "      <td>...</td>\n",
       "      <td>...</td>\n",
       "      <td>...</td>\n",
       "      <td>...</td>\n",
       "      <td>...</td>\n",
       "      <td>...</td>\n",
       "      <td>...</td>\n",
       "      <td>...</td>\n",
       "      <td>...</td>\n",
       "    </tr>\n",
       "    <tr>\n",
       "      <th>1467</th>\n",
       "      <td>1471</td>\n",
       "      <td>0.196922</td>\n",
       "      <td>1014.500244</td>\n",
       "      <td>-5384.398926</td>\n",
       "      <td>388.603180</td>\n",
       "      <td>-5467.788338</td>\n",
       "      <td>5467.788338</td>\n",
       "      <td>-0.546779</td>\n",
       "      <td>19.791397</td>\n",
       "      <td>4.532212</td>\n",
       "      <td>0.791375</td>\n",
       "      <td>8.969880</td>\n",
       "    </tr>\n",
       "    <tr>\n",
       "      <th>1468</th>\n",
       "      <td>1472</td>\n",
       "      <td>0.197056</td>\n",
       "      <td>1014.570801</td>\n",
       "      <td>-5387.557129</td>\n",
       "      <td>353.027161</td>\n",
       "      <td>-5470.946541</td>\n",
       "      <td>5470.946541</td>\n",
       "      <td>-0.547095</td>\n",
       "      <td>17.979526</td>\n",
       "      <td>4.529053</td>\n",
       "      <td>0.792072</td>\n",
       "      <td>8.143023</td>\n",
       "    </tr>\n",
       "    <tr>\n",
       "      <th>1469</th>\n",
       "      <td>1473</td>\n",
       "      <td>0.197187</td>\n",
       "      <td>1014.549377</td>\n",
       "      <td>-5390.486816</td>\n",
       "      <td>321.359497</td>\n",
       "      <td>-5473.876228</td>\n",
       "      <td>5473.876228</td>\n",
       "      <td>-0.547388</td>\n",
       "      <td>16.366705</td>\n",
       "      <td>4.526124</td>\n",
       "      <td>0.792719</td>\n",
       "      <td>7.407773</td>\n",
       "    </tr>\n",
       "    <tr>\n",
       "      <th>1470</th>\n",
       "      <td>1474</td>\n",
       "      <td>0.197319</td>\n",
       "      <td>1014.569092</td>\n",
       "      <td>-5393.080566</td>\n",
       "      <td>293.742920</td>\n",
       "      <td>-5476.469978</td>\n",
       "      <td>5476.469978</td>\n",
       "      <td>-0.547647</td>\n",
       "      <td>14.960204</td>\n",
       "      <td>4.523530</td>\n",
       "      <td>0.793292</td>\n",
       "      <td>6.767293</td>\n",
       "    </tr>\n",
       "    <tr>\n",
       "      <th>1471</th>\n",
       "      <td>1475</td>\n",
       "      <td>0.197462</td>\n",
       "      <td>1014.599854</td>\n",
       "      <td>-5395.908691</td>\n",
       "      <td>267.622437</td>\n",
       "      <td>-5479.298103</td>\n",
       "      <td>5479.298103</td>\n",
       "      <td>-0.547930</td>\n",
       "      <td>13.629899</td>\n",
       "      <td>4.520702</td>\n",
       "      <td>0.793918</td>\n",
       "      <td>6.161671</td>\n",
       "    </tr>\n",
       "  </tbody>\n",
       "</table>\n",
       "<p>1472 rows × 12 columns</p>\n",
       "</div>"
      ],
      "text/plain": [
       "      Unnamed: 0  Time (s)  Temperature (°C)  Change in Length (µm)  \\\n",
       "0              4  0.000399        999.325928              83.389412   \n",
       "1              5  0.000537        999.300781              83.379242   \n",
       "2              6  0.000675        999.301025              83.647148   \n",
       "3              7  0.000813        999.370605              83.917305   \n",
       "4              8  0.000936        999.451599              84.188972   \n",
       "...          ...       ...               ...                    ...   \n",
       "1467        1471  0.196922       1014.500244           -5384.398926   \n",
       "1468        1472  0.197056       1014.570801           -5387.557129   \n",
       "1469        1473  0.197187       1014.549377           -5390.486816   \n",
       "1470        1474  0.197319       1014.569092           -5393.080566   \n",
       "1471        1475  0.197462       1014.599854           -5395.908691   \n",
       "\n",
       "       Force (N)  Change in length (µm)  Abs. Change in length (µm)  \\\n",
       "0      11.001963               0.000000                    0.000000   \n",
       "1      10.466588              -0.010170                    0.010170   \n",
       "2      11.073347               0.257736                   -0.257736   \n",
       "3      11.718772               0.527893                   -0.527893   \n",
       "4      12.871812               0.799561                   -0.799561   \n",
       "...          ...                    ...                         ...   \n",
       "1467  388.603180           -5467.788338                 5467.788338   \n",
       "1468  353.027161           -5470.946541                 5470.946541   \n",
       "1469  321.359497           -5473.876228                 5473.876228   \n",
       "1470  293.742920           -5476.469978                 5476.469978   \n",
       "1471  267.622437           -5479.298103                 5479.298103   \n",
       "\n",
       "      Eng. Strain  Eng. Stress (MPa)  Length (µm)  True Strain  True Stress  \n",
       "0        0.000000           0.560325    10.000000     0.000000     0.560325  \n",
       "1       -0.000001           0.533059     9.999990     0.000001     0.533058  \n",
       "2        0.000026           0.563961    10.000258    -0.000026     0.563975  \n",
       "3        0.000053           0.596832    10.000528    -0.000053     0.596864  \n",
       "4        0.000080           0.655556    10.000800    -0.000080     0.655608  \n",
       "...           ...                ...          ...          ...          ...  \n",
       "1467    -0.546779          19.791397     4.532212     0.791375     8.969880  \n",
       "1468    -0.547095          17.979526     4.529053     0.792072     8.143023  \n",
       "1469    -0.547388          16.366705     4.526124     0.792719     7.407773  \n",
       "1470    -0.547647          14.960204     4.523530     0.793292     6.767293  \n",
       "1471    -0.547930          13.629899     4.520702     0.793918     6.161671  \n",
       "\n",
       "[1472 rows x 12 columns]"
      ]
     },
     "execution_count": 37,
     "metadata": {},
     "output_type": "execute_result"
    }
   ],
   "source": [
    "data_dict['Data_4.xlsx'].loc[data_dict['Data_4.xlsx']['True Strain'] < 0.88]"
   ]
  },
  {
   "cell_type": "code",
   "execution_count": 38,
   "metadata": {},
   "outputs": [],
   "source": [
    "new_data_dict = {}\n",
    "for datas,name in zip(data_dict.values(),data_dict.keys()):\n",
    "    index_min = np.argmin(savgol_filter(datas['True Stress'],31,9,deriv=1))\n",
    "    cut_off_value = datas['True Strain'][index_min]\n",
    "    rounded_cut_off = math.floor(cut_off_value*50.0)/50.0\n",
    "    new_data_dict[name] = datas.loc[datas['True Strain'] < rounded_cut_off]"
   ]
  },
  {
   "cell_type": "code",
   "execution_count": 39,
   "metadata": {},
   "outputs": [
    {
     "data": {
      "text/html": [
       "<div>\n",
       "<style scoped>\n",
       "    .dataframe tbody tr th:only-of-type {\n",
       "        vertical-align: middle;\n",
       "    }\n",
       "\n",
       "    .dataframe tbody tr th {\n",
       "        vertical-align: top;\n",
       "    }\n",
       "\n",
       "    .dataframe thead th {\n",
       "        text-align: right;\n",
       "    }\n",
       "</style>\n",
       "<table border=\"1\" class=\"dataframe\">\n",
       "  <thead>\n",
       "    <tr style=\"text-align: right;\">\n",
       "      <th></th>\n",
       "      <th>Unnamed: 0</th>\n",
       "      <th>Time (s)</th>\n",
       "      <th>Temperature (°C)</th>\n",
       "      <th>Change in Length (µm)</th>\n",
       "      <th>Force (N)</th>\n",
       "      <th>Change in length (µm)</th>\n",
       "      <th>Abs. Change in length (µm)</th>\n",
       "      <th>Eng. Strain</th>\n",
       "      <th>Eng. Stress (MPa)</th>\n",
       "      <th>Length (µm)</th>\n",
       "      <th>True Strain</th>\n",
       "      <th>True Stress</th>\n",
       "    </tr>\n",
       "  </thead>\n",
       "  <tbody>\n",
       "    <tr>\n",
       "      <th>0</th>\n",
       "      <td>4</td>\n",
       "      <td>0.000958</td>\n",
       "      <td>999.203430</td>\n",
       "      <td>80.129005</td>\n",
       "      <td>10.600432</td>\n",
       "      <td>0.000000</td>\n",
       "      <td>0.000000</td>\n",
       "      <td>0.000000</td>\n",
       "      <td>0.539876</td>\n",
       "      <td>10.000000</td>\n",
       "      <td>0.000000</td>\n",
       "      <td>0.539876</td>\n",
       "    </tr>\n",
       "    <tr>\n",
       "      <th>1</th>\n",
       "      <td>5</td>\n",
       "      <td>0.001274</td>\n",
       "      <td>999.178467</td>\n",
       "      <td>79.966232</td>\n",
       "      <td>10.680738</td>\n",
       "      <td>-0.162773</td>\n",
       "      <td>0.162773</td>\n",
       "      <td>-0.000016</td>\n",
       "      <td>0.543966</td>\n",
       "      <td>9.999837</td>\n",
       "      <td>0.000016</td>\n",
       "      <td>0.543957</td>\n",
       "    </tr>\n",
       "    <tr>\n",
       "      <th>2</th>\n",
       "      <td>6</td>\n",
       "      <td>0.001600</td>\n",
       "      <td>999.369263</td>\n",
       "      <td>80.590210</td>\n",
       "      <td>12.420709</td>\n",
       "      <td>0.461205</td>\n",
       "      <td>-0.461205</td>\n",
       "      <td>0.000046</td>\n",
       "      <td>0.632581</td>\n",
       "      <td>10.000461</td>\n",
       "      <td>-0.000046</td>\n",
       "      <td>0.632611</td>\n",
       "    </tr>\n",
       "    <tr>\n",
       "      <th>3</th>\n",
       "      <td>7</td>\n",
       "      <td>0.001916</td>\n",
       "      <td>999.375610</td>\n",
       "      <td>80.548386</td>\n",
       "      <td>12.376094</td>\n",
       "      <td>0.419380</td>\n",
       "      <td>-0.419380</td>\n",
       "      <td>0.000042</td>\n",
       "      <td>0.630309</td>\n",
       "      <td>10.000419</td>\n",
       "      <td>-0.000042</td>\n",
       "      <td>0.630336</td>\n",
       "    </tr>\n",
       "    <tr>\n",
       "      <th>4</th>\n",
       "      <td>8</td>\n",
       "      <td>0.002231</td>\n",
       "      <td>999.448853</td>\n",
       "      <td>81.161438</td>\n",
       "      <td>13.069108</td>\n",
       "      <td>1.032433</td>\n",
       "      <td>-1.032433</td>\n",
       "      <td>0.000103</td>\n",
       "      <td>0.665604</td>\n",
       "      <td>10.001032</td>\n",
       "      <td>-0.000103</td>\n",
       "      <td>0.665673</td>\n",
       "    </tr>\n",
       "    <tr>\n",
       "      <th>...</th>\n",
       "      <td>...</td>\n",
       "      <td>...</td>\n",
       "      <td>...</td>\n",
       "      <td>...</td>\n",
       "      <td>...</td>\n",
       "      <td>...</td>\n",
       "      <td>...</td>\n",
       "      <td>...</td>\n",
       "      <td>...</td>\n",
       "      <td>...</td>\n",
       "      <td>...</td>\n",
       "      <td>...</td>\n",
       "    </tr>\n",
       "    <tr>\n",
       "      <th>3042</th>\n",
       "      <td>3046</td>\n",
       "      <td>0.974235</td>\n",
       "      <td>993.558105</td>\n",
       "      <td>-5767.083496</td>\n",
       "      <td>9974.713867</td>\n",
       "      <td>-5847.212502</td>\n",
       "      <td>5847.212502</td>\n",
       "      <td>-0.584721</td>\n",
       "      <td>508.008006</td>\n",
       "      <td>4.152787</td>\n",
       "      <td>0.878805</td>\n",
       "      <td>210.964930</td>\n",
       "    </tr>\n",
       "    <tr>\n",
       "      <th>3043</th>\n",
       "      <td>3047</td>\n",
       "      <td>0.974562</td>\n",
       "      <td>993.567749</td>\n",
       "      <td>-5768.260742</td>\n",
       "      <td>9978.585938</td>\n",
       "      <td>-5848.389748</td>\n",
       "      <td>5848.389748</td>\n",
       "      <td>-0.584839</td>\n",
       "      <td>508.205209</td>\n",
       "      <td>4.151610</td>\n",
       "      <td>0.879089</td>\n",
       "      <td>210.986995</td>\n",
       "    </tr>\n",
       "    <tr>\n",
       "      <th>3044</th>\n",
       "      <td>3048</td>\n",
       "      <td>0.974877</td>\n",
       "      <td>993.539551</td>\n",
       "      <td>-5769.137207</td>\n",
       "      <td>9982.372070</td>\n",
       "      <td>-5849.266212</td>\n",
       "      <td>5849.266212</td>\n",
       "      <td>-0.584927</td>\n",
       "      <td>508.398035</td>\n",
       "      <td>4.150734</td>\n",
       "      <td>0.879300</td>\n",
       "      <td>211.022490</td>\n",
       "    </tr>\n",
       "    <tr>\n",
       "      <th>3045</th>\n",
       "      <td>3049</td>\n",
       "      <td>0.975201</td>\n",
       "      <td>993.486267</td>\n",
       "      <td>-5770.728516</td>\n",
       "      <td>9985.377930</td>\n",
       "      <td>-5850.857521</td>\n",
       "      <td>5850.857521</td>\n",
       "      <td>-0.585086</td>\n",
       "      <td>508.551122</td>\n",
       "      <td>4.149142</td>\n",
       "      <td>0.879683</td>\n",
       "      <td>211.005106</td>\n",
       "    </tr>\n",
       "    <tr>\n",
       "      <th>3046</th>\n",
       "      <td>3050</td>\n",
       "      <td>0.975517</td>\n",
       "      <td>993.537415</td>\n",
       "      <td>-5771.880859</td>\n",
       "      <td>9989.308594</td>\n",
       "      <td>-5852.009865</td>\n",
       "      <td>5852.009865</td>\n",
       "      <td>-0.585201</td>\n",
       "      <td>508.751309</td>\n",
       "      <td>4.147990</td>\n",
       "      <td>0.879961</td>\n",
       "      <td>211.029541</td>\n",
       "    </tr>\n",
       "  </tbody>\n",
       "</table>\n",
       "<p>3047 rows × 12 columns</p>\n",
       "</div>"
      ],
      "text/plain": [
       "      Unnamed: 0  Time (s)  Temperature (°C)  Change in Length (µm)  \\\n",
       "0              4  0.000958        999.203430              80.129005   \n",
       "1              5  0.001274        999.178467              79.966232   \n",
       "2              6  0.001600        999.369263              80.590210   \n",
       "3              7  0.001916        999.375610              80.548386   \n",
       "4              8  0.002231        999.448853              81.161438   \n",
       "...          ...       ...               ...                    ...   \n",
       "3042        3046  0.974235        993.558105           -5767.083496   \n",
       "3043        3047  0.974562        993.567749           -5768.260742   \n",
       "3044        3048  0.974877        993.539551           -5769.137207   \n",
       "3045        3049  0.975201        993.486267           -5770.728516   \n",
       "3046        3050  0.975517        993.537415           -5771.880859   \n",
       "\n",
       "        Force (N)  Change in length (µm)  Abs. Change in length (µm)  \\\n",
       "0       10.600432               0.000000                    0.000000   \n",
       "1       10.680738              -0.162773                    0.162773   \n",
       "2       12.420709               0.461205                   -0.461205   \n",
       "3       12.376094               0.419380                   -0.419380   \n",
       "4       13.069108               1.032433                   -1.032433   \n",
       "...           ...                    ...                         ...   \n",
       "3042  9974.713867           -5847.212502                 5847.212502   \n",
       "3043  9978.585938           -5848.389748                 5848.389748   \n",
       "3044  9982.372070           -5849.266212                 5849.266212   \n",
       "3045  9985.377930           -5850.857521                 5850.857521   \n",
       "3046  9989.308594           -5852.009865                 5852.009865   \n",
       "\n",
       "      Eng. Strain  Eng. Stress (MPa)  Length (µm)  True Strain  True Stress  \n",
       "0        0.000000           0.539876    10.000000     0.000000     0.539876  \n",
       "1       -0.000016           0.543966     9.999837     0.000016     0.543957  \n",
       "2        0.000046           0.632581    10.000461    -0.000046     0.632611  \n",
       "3        0.000042           0.630309    10.000419    -0.000042     0.630336  \n",
       "4        0.000103           0.665604    10.001032    -0.000103     0.665673  \n",
       "...           ...                ...          ...          ...          ...  \n",
       "3042    -0.584721         508.008006     4.152787     0.878805   210.964930  \n",
       "3043    -0.584839         508.205209     4.151610     0.879089   210.986995  \n",
       "3044    -0.584927         508.398035     4.150734     0.879300   211.022490  \n",
       "3045    -0.585086         508.551122     4.149142     0.879683   211.005106  \n",
       "3046    -0.585201         508.751309     4.147990     0.879961   211.029541  \n",
       "\n",
       "[3047 rows x 12 columns]"
      ]
     },
     "execution_count": 39,
     "metadata": {},
     "output_type": "execute_result"
    }
   ],
   "source": [
    "new_data_dict['Data_1.xlsx']"
   ]
  },
  {
   "cell_type": "code",
   "execution_count": 40,
   "metadata": {},
   "outputs": [
    {
     "data": {
      "image/png": "[encoded data removed]",
      "text/plain": [
       "<Figure size 432x288 with 1 Axes>"
      ]
     },
     "metadata": {
      "needs_background": "light"
     },
     "output_type": "display_data"
    }
   ],
   "source": [
    "fig, ax = PyPlot.subplots()\n",
    "ax.tick_params(which='both',direction=\"in\",top=True,right=True)\n",
    "ax.minorticks_on()\n",
    "\n",
    "#for count,i in enumerate(data_dict.keys()):\n",
    "for datas,line,colors,labels in zip(new_data_dict.values(),linestyle_list,set_colors,label_list):\n",
    "    PyPlot.plot(datas['True Strain'],\n",
    "                datas['True Stress'],\n",
    "                color=colors,\n",
    "                linewidth = 2.5,\n",
    "                linestyle = line,\n",
    "                label = labels\n",
    "                )\n",
    "    PyPlot.xlim(-0.025,max_strain_lim)\n",
    "    PyPlot.ylim(0.0,max_stress_lim)\n",
    "    PyPlot.xlabel(r'$\\epsilon$(-)',fontsize=18)   # latex based symbols\n",
    "    PyPlot.ylabel(r'$\\sigma$ (MPa)',fontsize=18)\n",
    "    PyPlot.legend(title=r'$ T (\\mathrm{K})$')#,title_fontsize ='large')\n",
    "        \n",
    "fig.savefig('multi_stress_strain_cut_off.png',dpi=600)"
   ]
  }
 ],
 "metadata": {
  "kernelspec": {
   "display_name": "Python 3",
   "language": "python",
   "name": "python3"
  },
  "language_info": {
   "codemirror_mode": {
    "name": "ipython",
    "version": 3
   },
   "file_extension": ".py",
   "mimetype": "text/x-python",
   "name": "python",
   "nbconvert_exporter": "python",
   "pygments_lexer": "ipython3",
   "version": "3.8.5"
  }
 },
 "nbformat": 4,
 "nbformat_minor": 4
}
